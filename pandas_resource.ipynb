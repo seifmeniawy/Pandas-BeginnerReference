{
 "cells": [
  {
   "cell_type": "markdown",
   "id": "291484a5-e1f4-44c1-8f2d-05663c1a1aa1",
   "metadata": {
    "tags": []
   },
   "source": [
    "# Pandas - Resource for All Essential Methods and Techniques"
   ]
  },
  {
   "cell_type": "markdown",
   "id": "ae4dcc0a-1a91-4771-a621-815b11c1967f",
   "metadata": {},
   "source": [
    "*This notebook is for anyone who works with, or wishes to learn **Pandas**. This notebook contains most of the essential methods and techniques that you need in hand in order to, successfully and consistently, clean & manipulate data*"
   ]
  },
  {
   "cell_type": "markdown",
   "id": "2cc4f237-911b-4b6f-8a42-2ce03675e959",
   "metadata": {},
   "source": [
    "## Table of Contents:\n",
    "<ul>\n",
    "    <li><a href='#intro'>Introduction</a></li>\n",
    "    <li><a href='#dfc'>DataFrame Creation</a></li>\n",
    "    <li><a href='#drdg'>Creating a Dataset from Random Data Generator</a></li>\n",
    "    <li><a href='#method_info'>Methods to Obtain Information from Data</a></li>\n",
    "    <li><a href='#method_index'>Indexing</a></li>\n",
    "    <li><a href='#method_clean'>Cleaning Data</a></li>\n",
    "    <li><a href='#method_add'>Adding/Removing Rows & Columns</a></li>\n",
    "    <li><a href='#method_upd'>Updating Rows & Columns</a></li>\n",
    "    <li><a href='#method_filt'>Filtering Methods</a></li>\n",
    "    <li><a href='#method_grp'>Grouping Methods</a></li>\n",
    "</ul>"
   ]
  },
  {
   "cell_type": "markdown",
   "id": "a3f0e2ff-a372-4942-b950-9d2f939815c8",
   "metadata": {},
   "source": [
    "<a id='intro'></a>\n",
    "## Introduction"
   ]
  },
  {
   "cell_type": "markdown",
   "id": "06fe0a36-95a4-4386-ae2a-10ac8c22f268",
   "metadata": {},
   "source": [
    ">***Pandas*** *is a powerful, fast, and flexible Python library for Data Preparation, Cleaning and Manipulation. For more information on* ***Pandas***, *visit https://pandas.pydata.org/docs/reference/index.html*\n",
    "\n",
    "This Jupyter notebook serves as a reference for individuals who are new to **Pandas** and wish they had a single resource they can refer to, that contains the most frequently used **Pandas** methods and how to use them. \n",
    "\n",
    "This notebook is also a resource for individuals to practice getting familiar with **Pandas** without having to deal with large datasets.\n",
    "\n",
    "If you decided to learn **Pandas** I would assume that you already have basic knowledge of Python. If not, I suggest you become at least familiar with the language before attempting to learn **Pandas**. It's also important to know that this only covers **Pandas'** basic methods and techniques, advanced topics will not be covered in this notebook.\n",
    "\n",
    "Throughout this notebook you will find me saying 'methods' a lot. There's no difference between a method and a function, except that when I'm talking about a **Pandas** built-in function, I will refer to it as 'method'."
   ]
  },
  {
   "cell_type": "markdown",
   "id": "028db266-d53c-4a5f-beff-6e04999c5a3d",
   "metadata": {
    "tags": []
   },
   "source": [
    "<br>\n",
    "\n",
    "#### Importing Packages & Libraries"
   ]
  },
  {
   "cell_type": "code",
   "execution_count": 1,
   "id": "c98d4f4f-6088-4671-a0ac-7295a9d847cd",
   "metadata": {},
   "outputs": [],
   "source": [
    "import numpy as np\n",
    "import pandas as pd\n",
    "import random"
   ]
  },
  {
   "cell_type": "markdown",
   "id": "04b25caa-4660-4eeb-afcf-d85bf0e658eb",
   "metadata": {},
   "source": [
    "There are 2 ways to create a DataFrame in **Pandas**\n",
    "<ol>\n",
    "    <li>Create a DataFrame from Dictionary</li>\n",
    "    <strong><li>Import .csv file into DataFrame</li></strong>\n",
    "</ol>"
   ]
  },
  {
   "cell_type": "markdown",
   "id": "7dd12d4c-c30f-4d4d-95a9-e29b00ee09f9",
   "metadata": {
    "tags": []
   },
   "source": [
    "<a id='dfc'></a>\n",
    "## DataFrame Creation"
   ]
  },
  {
   "cell_type": "markdown",
   "id": "bdaac121-6451-42e7-b841-49fc89958d4d",
   "metadata": {
    "tags": []
   },
   "source": [
    "### 1. Create a DataFrame from Dictionary"
   ]
  },
  {
   "cell_type": "markdown",
   "id": "62195df1-784a-4104-9c48-393f2729c55b",
   "metadata": {},
   "source": [
    "a) you could construct a dictionary inside Pandas' **pd.DataFrame( )** method."
   ]
  },
  {
   "cell_type": "code",
   "execution_count": 2,
   "id": "bd7c8381-e84f-4c33-839f-0aeae9def0f5",
   "metadata": {},
   "outputs": [
    {
     "data": {
      "text/html": [
       "<div>\n",
       "<style scoped>\n",
       "    .dataframe tbody tr th:only-of-type {\n",
       "        vertical-align: middle;\n",
       "    }\n",
       "\n",
       "    .dataframe tbody tr th {\n",
       "        vertical-align: top;\n",
       "    }\n",
       "\n",
       "    .dataframe thead th {\n",
       "        text-align: right;\n",
       "    }\n",
       "</style>\n",
       "<table border=\"1\" class=\"dataframe\">\n",
       "  <thead>\n",
       "    <tr style=\"text-align: right;\">\n",
       "      <th></th>\n",
       "      <th>A</th>\n",
       "      <th>B</th>\n",
       "      <th>C</th>\n",
       "      <th>D</th>\n",
       "      <th>E</th>\n",
       "      <th>F</th>\n",
       "    </tr>\n",
       "  </thead>\n",
       "  <tbody>\n",
       "    <tr>\n",
       "      <th>0</th>\n",
       "      <td>1.0</td>\n",
       "      <td>2022-09-20</td>\n",
       "      <td>1.0</td>\n",
       "      <td>3</td>\n",
       "      <td>test</td>\n",
       "      <td>foo</td>\n",
       "    </tr>\n",
       "    <tr>\n",
       "      <th>1</th>\n",
       "      <td>1.0</td>\n",
       "      <td>2022-09-20</td>\n",
       "      <td>1.0</td>\n",
       "      <td>3</td>\n",
       "      <td>train</td>\n",
       "      <td>foo</td>\n",
       "    </tr>\n",
       "    <tr>\n",
       "      <th>2</th>\n",
       "      <td>1.0</td>\n",
       "      <td>2022-09-20</td>\n",
       "      <td>1.0</td>\n",
       "      <td>3</td>\n",
       "      <td>test</td>\n",
       "      <td>foo</td>\n",
       "    </tr>\n",
       "    <tr>\n",
       "      <th>3</th>\n",
       "      <td>1.0</td>\n",
       "      <td>2022-09-20</td>\n",
       "      <td>1.0</td>\n",
       "      <td>3</td>\n",
       "      <td>train</td>\n",
       "      <td>foo</td>\n",
       "    </tr>\n",
       "  </tbody>\n",
       "</table>\n",
       "</div>"
      ],
      "text/plain": [
       "     A          B    C  D      E    F\n",
       "0  1.0 2022-09-20  1.0  3   test  foo\n",
       "1  1.0 2022-09-20  1.0  3  train  foo\n",
       "2  1.0 2022-09-20  1.0  3   test  foo\n",
       "3  1.0 2022-09-20  1.0  3  train  foo"
      ]
     },
     "execution_count": 2,
     "metadata": {},
     "output_type": "execute_result"
    }
   ],
   "source": [
    "df = pd.DataFrame(\n",
    "    {\n",
    "        \"A\": 1.0,\n",
    "        \"B\": pd.Timestamp(\"20220920\"),\n",
    "        \"C\": pd.Series(1, index=list(range(4)), dtype=\"float32\"),\n",
    "        \"D\": np.array([3] * 4, dtype=\"int32\"),\n",
    "        \"E\": pd.Categorical([\"test\", \"train\", \"test\", \"train\"]),\n",
    "        \"F\": \"foo\",\n",
    "})\n",
    "\n",
    "df"
   ]
  },
  {
   "cell_type": "markdown",
   "id": "2992d8df-59c6-4926-be8b-2c56d04ffe1d",
   "metadata": {},
   "source": [
    "<br>\n",
    "\n",
    "b) you could define a dictionary, then pass the name of the dictionary as an argument in Pandas' **pd.DataFrame( )** method."
   ]
  },
  {
   "cell_type": "code",
   "execution_count": 3,
   "id": "bca52c36-a011-40e3-8f40-12d0e7588f24",
   "metadata": {},
   "outputs": [
    {
     "data": {
      "text/html": [
       "<div>\n",
       "<style scoped>\n",
       "    .dataframe tbody tr th:only-of-type {\n",
       "        vertical-align: middle;\n",
       "    }\n",
       "\n",
       "    .dataframe tbody tr th {\n",
       "        vertical-align: top;\n",
       "    }\n",
       "\n",
       "    .dataframe thead th {\n",
       "        text-align: right;\n",
       "    }\n",
       "</style>\n",
       "<table border=\"1\" class=\"dataframe\">\n",
       "  <thead>\n",
       "    <tr style=\"text-align: right;\">\n",
       "      <th></th>\n",
       "      <th>A</th>\n",
       "      <th>B</th>\n",
       "      <th>C</th>\n",
       "      <th>D</th>\n",
       "      <th>E</th>\n",
       "      <th>F</th>\n",
       "    </tr>\n",
       "  </thead>\n",
       "  <tbody>\n",
       "    <tr>\n",
       "      <th>0</th>\n",
       "      <td>1.0</td>\n",
       "      <td>2022-09-20</td>\n",
       "      <td>1.0</td>\n",
       "      <td>3</td>\n",
       "      <td>test</td>\n",
       "      <td>foo</td>\n",
       "    </tr>\n",
       "    <tr>\n",
       "      <th>1</th>\n",
       "      <td>1.0</td>\n",
       "      <td>2022-09-20</td>\n",
       "      <td>1.0</td>\n",
       "      <td>3</td>\n",
       "      <td>train</td>\n",
       "      <td>foo</td>\n",
       "    </tr>\n",
       "    <tr>\n",
       "      <th>2</th>\n",
       "      <td>1.0</td>\n",
       "      <td>2022-09-20</td>\n",
       "      <td>1.0</td>\n",
       "      <td>3</td>\n",
       "      <td>test</td>\n",
       "      <td>foo</td>\n",
       "    </tr>\n",
       "    <tr>\n",
       "      <th>3</th>\n",
       "      <td>1.0</td>\n",
       "      <td>2022-09-20</td>\n",
       "      <td>1.0</td>\n",
       "      <td>3</td>\n",
       "      <td>train</td>\n",
       "      <td>foo</td>\n",
       "    </tr>\n",
       "  </tbody>\n",
       "</table>\n",
       "</div>"
      ],
      "text/plain": [
       "     A          B    C  D      E    F\n",
       "0  1.0 2022-09-20  1.0  3   test  foo\n",
       "1  1.0 2022-09-20  1.0  3  train  foo\n",
       "2  1.0 2022-09-20  1.0  3   test  foo\n",
       "3  1.0 2022-09-20  1.0  3  train  foo"
      ]
     },
     "execution_count": 3,
     "metadata": {},
     "output_type": "execute_result"
    }
   ],
   "source": [
    "df_dict = {\n",
    "        \"A\": 1.0,\n",
    "        \"B\": pd.Timestamp(\"20220920\"),\n",
    "        \"C\": pd.Series(1, index=list(range(4)), dtype=\"float32\"),\n",
    "        \"D\": np.array([3] * 4, dtype=\"int32\"),\n",
    "        \"E\": pd.Categorical([\"test\", \"train\", \"test\", \"train\"]),\n",
    "        \"F\": \"foo\",\n",
    "} \n",
    "\n",
    "df = pd.DataFrame(df_dict)\n",
    "\n",
    "df"
   ]
  },
  {
   "cell_type": "markdown",
   "id": "2df4d620-e9b3-49c8-8e14-2f8b7c12ed5a",
   "metadata": {},
   "source": [
    "\n",
    "### 2. Create a DataFrame by importing .csv file"
   ]
  },
  {
   "cell_type": "markdown",
   "id": "be47354e-a212-4e03-8793-e06057de78e3",
   "metadata": {},
   "source": [
    "you can create a DataFrame using Pandas' **pd.read_csv( )** method by passing the .csv file name as an argument."
   ]
  },
  {
   "cell_type": "code",
   "execution_count": 4,
   "id": "2dff6ab7-ff87-433c-ad01-6bd043b85f89",
   "metadata": {},
   "outputs": [
    {
     "data": {
      "text/html": [
       "<div>\n",
       "<style scoped>\n",
       "    .dataframe tbody tr th:only-of-type {\n",
       "        vertical-align: middle;\n",
       "    }\n",
       "\n",
       "    .dataframe tbody tr th {\n",
       "        vertical-align: top;\n",
       "    }\n",
       "\n",
       "    .dataframe thead th {\n",
       "        text-align: right;\n",
       "    }\n",
       "</style>\n",
       "<table border=\"1\" class=\"dataframe\">\n",
       "  <thead>\n",
       "    <tr style=\"text-align: right;\">\n",
       "      <th></th>\n",
       "      <th>A</th>\n",
       "      <th>B</th>\n",
       "      <th>C</th>\n",
       "      <th>D</th>\n",
       "      <th>E</th>\n",
       "      <th>F</th>\n",
       "    </tr>\n",
       "  </thead>\n",
       "  <tbody>\n",
       "    <tr>\n",
       "      <th>0</th>\n",
       "      <td>1.0</td>\n",
       "      <td>2022-09-20</td>\n",
       "      <td>1.0</td>\n",
       "      <td>3</td>\n",
       "      <td>test</td>\n",
       "      <td>foo</td>\n",
       "    </tr>\n",
       "    <tr>\n",
       "      <th>1</th>\n",
       "      <td>1.0</td>\n",
       "      <td>2022-09-20</td>\n",
       "      <td>1.0</td>\n",
       "      <td>3</td>\n",
       "      <td>train</td>\n",
       "      <td>foo</td>\n",
       "    </tr>\n",
       "    <tr>\n",
       "      <th>2</th>\n",
       "      <td>1.0</td>\n",
       "      <td>2022-09-20</td>\n",
       "      <td>1.0</td>\n",
       "      <td>3</td>\n",
       "      <td>test</td>\n",
       "      <td>foo</td>\n",
       "    </tr>\n",
       "    <tr>\n",
       "      <th>3</th>\n",
       "      <td>1.0</td>\n",
       "      <td>2022-09-20</td>\n",
       "      <td>1.0</td>\n",
       "      <td>3</td>\n",
       "      <td>train</td>\n",
       "      <td>foo</td>\n",
       "    </tr>\n",
       "  </tbody>\n",
       "</table>\n",
       "</div>"
      ],
      "text/plain": [
       "     A           B    C  D      E    F\n",
       "0  1.0  2022-09-20  1.0  3   test  foo\n",
       "1  1.0  2022-09-20  1.0  3  train  foo\n",
       "2  1.0  2022-09-20  1.0  3   test  foo\n",
       "3  1.0  2022-09-20  1.0  3  train  foo"
      ]
     },
     "execution_count": 4,
     "metadata": {},
     "output_type": "execute_result"
    }
   ],
   "source": [
    "df = pd.read_csv('./sample_df.csv')\n",
    "df"
   ]
  },
  {
   "cell_type": "markdown",
   "id": "76a8e34c-8c17-4859-8785-c752ebc85110",
   "metadata": {},
   "source": [
    "***However, it's important to know that in real-life situations you will most likely use the 'pd.read_csv( )' method more often. Because in most cases, the data you are going to analyse or manipulate will either be a .csv file pulled from a database, or a .csv file you can find on the web.***\n",
    "<br>\n",
    "<br>\n",
    "<hr>\n",
    "<br>\n",
    "\n",
    "> The dataset we are going to use will be a generic dataset initiated from a dictionary using a **random data generator**."
   ]
  },
  {
   "cell_type": "markdown",
   "id": "bb9a19f6-4fe4-430f-bed0-5d5ef391a40f",
   "metadata": {
    "tags": []
   },
   "source": [
    "<a id='drdg'></a>\n",
    "### Creating a Dataset from a Random Data Generator"
   ]
  },
  {
   "cell_type": "markdown",
   "id": "ea88b48b-0aa2-419d-a5ee-bc0b6eb14687",
   "metadata": {},
   "source": [
    "Below is a basic dictionary generator built to help you initiate a dataset with random values without much work.\n",
    "\n",
    "This can be helpful when trying to learn Pandas and can't find a simple dataset to work with. Using this random data generator, you can build a simple dataset.\n",
    "\n",
    "The code below generates a dictionary with random values, that can be transformed into a dataframe using **Pandas**.\n",
    "\n",
    "This function will return **df.csv** which we will import into Pandas using **pd.read_csv( )** method."
   ]
  },
  {
   "cell_type": "markdown",
   "id": "ced524fd-b115-4719-85cb-46e65b199bf6",
   "metadata": {},
   "source": [
    "> **YOU DON'T NEED TO RUN THE CODE FOR RANDOM DATA GENERATOR!!!**<br>\n",
    "<br>\n",
    "*the **df.csv** file that we will use to import the data into Pandas is already included in the directory that contains this Jupyter notebook.* \n",
    "\n",
    "However if you wish to run the code, note that this is a random data generator, which means that everytime you run the code, you will get a new & unique dataset. So if you would like to follow along with matching data, I suggest you don't run the code.\n",
    "\n",
    "***Otherwise, feel free to run the code and use it any way you want.***"
   ]
  },
  {
   "cell_type": "markdown",
   "id": "5db55cf0-343b-42bf-b45f-6c89a4f77e05",
   "metadata": {
    "tags": []
   },
   "source": [
    "<a id='rdg'></a>\n",
    "### Random Data Generator"
   ]
  },
  {
   "cell_type": "markdown",
   "id": "cd2db2e6-7311-4a7d-b980-417852ebb544",
   "metadata": {},
   "source": [
    "The purpose of this function is to help you save time building datasets\n",
    "when learning Pandas.\n",
    "<br>\n",
    "<br>\n",
    "> feel free to change any values to your liking. (add or remove names, countries, \n",
    "keys from/to the dictionary etc.)"
   ]
  },
  {
   "cell_type": "code",
   "execution_count": 7,
   "id": "eeb939cc-3ed9-4d15-ba54-2621245b3175",
   "metadata": {
    "tags": []
   },
   "outputs": [],
   "source": [
    "# !!!!! FUNCTION IS DISABLED, CHECK BOTTOM OF CELL TO ENABLE !!!!!!\n",
    "\n",
    "\n",
    "def build_dict(num):\n",
    "    first_name = ['Adam', 'Aaron', 'Andrew', 'Benjamin', 'Bill', 'Conrad', 'Carl',\n",
    "                  'Daniel','David', 'Erik', 'Edwin', 'Evan', 'Frank', 'Frederick',\n",
    "                  'Gabriel', 'Ian', 'Jack', 'John', 'Jason', 'Mark', 'Martin',\n",
    "                  'Magnus', 'Neil', 'Oscar', 'Oswald', 'Patrick', 'Peter', 'Quentin', \n",
    "                  'Russel', 'Ron', 'Steven', 'Stanislas', 'Tyler', 'Victor', 'William', 'Xavier', \n",
    "                  'Amin', 'Salim']\n",
    "    \n",
    "    last_name = ['Morten', 'Atkinson', 'Manning', 'Stevenson', 'Eriksen', 'Robinson', 'Perreira',\n",
    "                 'Flick', 'Tanner', 'Fraser', 'Lehmann', 'Hansen', 'Hassan', 'Magnusson', 'Hvar', \n",
    "                 'Kimmel', 'Ronson', 'Hamilton', 'Thomas', 'Richards', 'Terry', 'Gerard',\n",
    "                 'Hank', 'Williamson', 'Roberts', 'Smith', 'Towns', 'Phillips', 'Woodburn', 'Patten', \n",
    "                 'Fernandez', 'Williams', 'Bulsic', 'Kramer', 'Mendez', 'Albert', 'Samir', 'Aygun']\n",
    "    \n",
    "    countries = ['USA', 'UK', 'Scotland', 'Canada', 'Australia', 'New Zealand']\n",
    "    \n",
    "    languages = ['html; CSS; Javascript', 'Python', 'Java', 'Dart', 'PHP', 'Ruby', 'R']\n",
    "    \n",
    "    names_dict = {'first_name': [],\n",
    "             'last_name': [],\n",
    "             'email': [],\n",
    "             'age': [],\n",
    "             'country': [],\n",
    "             'salary': [],\n",
    "             'languages': [],     \n",
    "            }\n",
    "\n",
    "    for i in range(num):\n",
    "        firstname = random.choice(first_name)\n",
    "        lastname = random.choice(last_name)\n",
    "        email = '{}{}{}@gmail.com'.format(firstname[0].lower(), lastname.lower(), random.randint(10, 99))\n",
    "        age = random.randint(25, 45)\n",
    "        country = random.choice(countries)\n",
    "        salary = random.randint(40, 120) * 1000\n",
    "        language = random.choice(languages)\n",
    "        \n",
    "# Here we will create a conditional statement to ensure that there are no name duplicates\n",
    "# in the dataset, this may affect the resulting number of rows in the dataset.\n",
    "\n",
    "        if firstname in names_dict['first_name'] and lastname in names_dict['last_name']:\n",
    "            continue\n",
    "        \n",
    "        else:\n",
    "            names_dict['first_name'] += [firstname]\n",
    "            names_dict['last_name'] += [lastname]\n",
    "            names_dict['email'] += [email]\n",
    "            names_dict['age'] += [age]\n",
    "            names_dict['country'] += [country]\n",
    "            names_dict['salary'] += [salary]\n",
    "            names_dict['languages'] += [language]\n",
    "            \n",
    "        \n",
    "    \n",
    "    df = pd.DataFrame(names_dict)\n",
    "    df.to_csv('./df.csv', index=False)\n",
    "    \n",
    "    return len(names_dict['first_name'])\n",
    "\n",
    "\n",
    "# to control the number of values that will exist in the dictionary, you can pass \n",
    "# the number you want as an arg when calling the 'build_dict()' function,\n",
    "# as demonstrated below. (default = 1000)\n",
    "\n",
    "\n",
    "# !!!!!! TO ENABLE THIS FUNCTION, REMOVE '#' BELOW & RUN THE CELL !!!!!!\n",
    "\n",
    "#build_dict(100)"
   ]
  },
  {
   "cell_type": "markdown",
   "id": "92428d5d-4bda-474e-b5fb-15fc199f595b",
   "metadata": {},
   "source": [
    "**N.B**: if we run Python's ***len( )*** method on the generated dictionary, which is the return value for **build_dict( )** function. We find that the number of rows is different than the number we passed as an argument in the <a href='#rdg'>random data generator's</a> **build_dict( )** function.\n",
    "<br>\n",
    "<br>\n",
    "This is the effect of the **if conditional** statement located in the for loop inside **build_dict( )** function, as explained <a href='#rdg'>*above*</a>"
   ]
  },
  {
   "cell_type": "markdown",
   "id": "a3f975ff-4e37-42d5-82b4-e07151436327",
   "metadata": {
    "tags": []
   },
   "source": [
    "### Important Read"
   ]
  },
  {
   "cell_type": "markdown",
   "id": "7127b58f-3298-49cc-acd2-d5ead1f63cd4",
   "metadata": {},
   "source": [
    "*After running the random data generator we can see that it generated a new **'df.csv'** file. This is the file we will be using from now on, and we will import it into **Pandas** in the next section.*\n",
    "<br>\n",
    "\n",
    "> *If you did not run the code, you can use the **'df.csv'** file located in the directory that contains this Jupyter notebook.*\n",
    "\n"
   ]
  },
  {
   "cell_type": "markdown",
   "id": "156bf1bc-9483-4cf5-9ee8-aa37a666b853",
   "metadata": {
    "tags": []
   },
   "source": [
    "### Creating DataFrame"
   ]
  },
  {
   "cell_type": "code",
   "execution_count": 9,
   "id": "9d4303dd-e833-4f7f-a22e-1ca941537c8e",
   "metadata": {},
   "outputs": [
    {
     "data": {
      "text/html": [
       "<div>\n",
       "<style scoped>\n",
       "    .dataframe tbody tr th:only-of-type {\n",
       "        vertical-align: middle;\n",
       "    }\n",
       "\n",
       "    .dataframe tbody tr th {\n",
       "        vertical-align: top;\n",
       "    }\n",
       "\n",
       "    .dataframe thead th {\n",
       "        text-align: right;\n",
       "    }\n",
       "</style>\n",
       "<table border=\"1\" class=\"dataframe\">\n",
       "  <thead>\n",
       "    <tr style=\"text-align: right;\">\n",
       "      <th></th>\n",
       "      <th>first_name</th>\n",
       "      <th>last_name</th>\n",
       "      <th>email</th>\n",
       "      <th>age</th>\n",
       "      <th>country</th>\n",
       "      <th>salary</th>\n",
       "      <th>languages</th>\n",
       "    </tr>\n",
       "  </thead>\n",
       "  <tbody>\n",
       "    <tr>\n",
       "      <th>0</th>\n",
       "      <td>Frank</td>\n",
       "      <td>Thomas</td>\n",
       "      <td>fthomas94@gmail.com</td>\n",
       "      <td>34</td>\n",
       "      <td>Scotland</td>\n",
       "      <td>117000</td>\n",
       "      <td>R</td>\n",
       "    </tr>\n",
       "    <tr>\n",
       "      <th>1</th>\n",
       "      <td>Carl</td>\n",
       "      <td>Hansen</td>\n",
       "      <td>chansen28@gmail.com</td>\n",
       "      <td>38</td>\n",
       "      <td>UK</td>\n",
       "      <td>101000</td>\n",
       "      <td>Ruby</td>\n",
       "    </tr>\n",
       "    <tr>\n",
       "      <th>2</th>\n",
       "      <td>Aaron</td>\n",
       "      <td>Hansen</td>\n",
       "      <td>ahansen75@gmail.com</td>\n",
       "      <td>26</td>\n",
       "      <td>Canada</td>\n",
       "      <td>92000</td>\n",
       "      <td>PHP</td>\n",
       "    </tr>\n",
       "    <tr>\n",
       "      <th>3</th>\n",
       "      <td>Evan</td>\n",
       "      <td>Phillips</td>\n",
       "      <td>ephillips75@gmail.com</td>\n",
       "      <td>30</td>\n",
       "      <td>Australia</td>\n",
       "      <td>51000</td>\n",
       "      <td>R</td>\n",
       "    </tr>\n",
       "    <tr>\n",
       "      <th>4</th>\n",
       "      <td>Benjamin</td>\n",
       "      <td>Kramer</td>\n",
       "      <td>bkramer29@gmail.com</td>\n",
       "      <td>34</td>\n",
       "      <td>Scotland</td>\n",
       "      <td>71000</td>\n",
       "      <td>Python</td>\n",
       "    </tr>\n",
       "    <tr>\n",
       "      <th>5</th>\n",
       "      <td>Steven</td>\n",
       "      <td>Roberts</td>\n",
       "      <td>sroberts46@gmail.com</td>\n",
       "      <td>43</td>\n",
       "      <td>Scotland</td>\n",
       "      <td>57000</td>\n",
       "      <td>Java</td>\n",
       "    </tr>\n",
       "    <tr>\n",
       "      <th>6</th>\n",
       "      <td>Gabriel</td>\n",
       "      <td>Fraser</td>\n",
       "      <td>gfraser84@gmail.com</td>\n",
       "      <td>37</td>\n",
       "      <td>Scotland</td>\n",
       "      <td>74000</td>\n",
       "      <td>html; CSS; Javascript</td>\n",
       "    </tr>\n",
       "    <tr>\n",
       "      <th>7</th>\n",
       "      <td>Andrew</td>\n",
       "      <td>Flick</td>\n",
       "      <td>aflick69@gmail.com</td>\n",
       "      <td>37</td>\n",
       "      <td>Australia</td>\n",
       "      <td>72000</td>\n",
       "      <td>html; CSS; Javascript</td>\n",
       "    </tr>\n",
       "    <tr>\n",
       "      <th>8</th>\n",
       "      <td>Erik</td>\n",
       "      <td>Williams</td>\n",
       "      <td>ewilliams55@gmail.com</td>\n",
       "      <td>42</td>\n",
       "      <td>Australia</td>\n",
       "      <td>65000</td>\n",
       "      <td>PHP</td>\n",
       "    </tr>\n",
       "    <tr>\n",
       "      <th>9</th>\n",
       "      <td>Daniel</td>\n",
       "      <td>Hank</td>\n",
       "      <td>dhank42@gmail.com</td>\n",
       "      <td>27</td>\n",
       "      <td>USA</td>\n",
       "      <td>107000</td>\n",
       "      <td>Java</td>\n",
       "    </tr>\n",
       "    <tr>\n",
       "      <th>10</th>\n",
       "      <td>Frederick</td>\n",
       "      <td>Kimmel</td>\n",
       "      <td>fkimmel54@gmail.com</td>\n",
       "      <td>36</td>\n",
       "      <td>UK</td>\n",
       "      <td>82000</td>\n",
       "      <td>Ruby</td>\n",
       "    </tr>\n",
       "    <tr>\n",
       "      <th>11</th>\n",
       "      <td>Stanislas</td>\n",
       "      <td>Williams</td>\n",
       "      <td>swilliams29@gmail.com</td>\n",
       "      <td>45</td>\n",
       "      <td>UK</td>\n",
       "      <td>71000</td>\n",
       "      <td>PHP</td>\n",
       "    </tr>\n",
       "    <tr>\n",
       "      <th>12</th>\n",
       "      <td>David</td>\n",
       "      <td>Eriksen</td>\n",
       "      <td>deriksen79@gmail.com</td>\n",
       "      <td>35</td>\n",
       "      <td>Australia</td>\n",
       "      <td>66000</td>\n",
       "      <td>R</td>\n",
       "    </tr>\n",
       "    <tr>\n",
       "      <th>13</th>\n",
       "      <td>Oscar</td>\n",
       "      <td>Samir</td>\n",
       "      <td>osamir10@gmail.com</td>\n",
       "      <td>25</td>\n",
       "      <td>New Zealand</td>\n",
       "      <td>91000</td>\n",
       "      <td>R</td>\n",
       "    </tr>\n",
       "    <tr>\n",
       "      <th>14</th>\n",
       "      <td>Steven</td>\n",
       "      <td>Patten</td>\n",
       "      <td>spatten89@gmail.com</td>\n",
       "      <td>25</td>\n",
       "      <td>New Zealand</td>\n",
       "      <td>73000</td>\n",
       "      <td>Dart</td>\n",
       "    </tr>\n",
       "    <tr>\n",
       "      <th>15</th>\n",
       "      <td>Andrew</td>\n",
       "      <td>Hassan</td>\n",
       "      <td>ahassan25@gmail.com</td>\n",
       "      <td>44</td>\n",
       "      <td>Australia</td>\n",
       "      <td>59000</td>\n",
       "      <td>R</td>\n",
       "    </tr>\n",
       "    <tr>\n",
       "      <th>16</th>\n",
       "      <td>Xavier</td>\n",
       "      <td>Albert</td>\n",
       "      <td>xalbert12@gmail.com</td>\n",
       "      <td>43</td>\n",
       "      <td>Australia</td>\n",
       "      <td>66000</td>\n",
       "      <td>R</td>\n",
       "    </tr>\n",
       "    <tr>\n",
       "      <th>17</th>\n",
       "      <td>Patrick</td>\n",
       "      <td>Patten</td>\n",
       "      <td>ppatten96@gmail.com</td>\n",
       "      <td>25</td>\n",
       "      <td>UK</td>\n",
       "      <td>72000</td>\n",
       "      <td>R</td>\n",
       "    </tr>\n",
       "    <tr>\n",
       "      <th>18</th>\n",
       "      <td>Ian</td>\n",
       "      <td>Gerard</td>\n",
       "      <td>igerard99@gmail.com</td>\n",
       "      <td>38</td>\n",
       "      <td>Canada</td>\n",
       "      <td>85000</td>\n",
       "      <td>PHP</td>\n",
       "    </tr>\n",
       "    <tr>\n",
       "      <th>19</th>\n",
       "      <td>John</td>\n",
       "      <td>Towns</td>\n",
       "      <td>jtowns14@gmail.com</td>\n",
       "      <td>38</td>\n",
       "      <td>USA</td>\n",
       "      <td>95000</td>\n",
       "      <td>Dart</td>\n",
       "    </tr>\n",
       "    <tr>\n",
       "      <th>20</th>\n",
       "      <td>Stanislas</td>\n",
       "      <td>Williamson</td>\n",
       "      <td>swilliamson38@gmail.com</td>\n",
       "      <td>31</td>\n",
       "      <td>UK</td>\n",
       "      <td>61000</td>\n",
       "      <td>Java</td>\n",
       "    </tr>\n",
       "    <tr>\n",
       "      <th>21</th>\n",
       "      <td>Amin</td>\n",
       "      <td>Hank</td>\n",
       "      <td>ahank60@gmail.com</td>\n",
       "      <td>25</td>\n",
       "      <td>USA</td>\n",
       "      <td>49000</td>\n",
       "      <td>Ruby</td>\n",
       "    </tr>\n",
       "    <tr>\n",
       "      <th>22</th>\n",
       "      <td>Xavier</td>\n",
       "      <td>Richards</td>\n",
       "      <td>xrichards36@gmail.com</td>\n",
       "      <td>40</td>\n",
       "      <td>Australia</td>\n",
       "      <td>46000</td>\n",
       "      <td>Dart</td>\n",
       "    </tr>\n",
       "    <tr>\n",
       "      <th>23</th>\n",
       "      <td>Neil</td>\n",
       "      <td>Bulsic</td>\n",
       "      <td>nbulsic77@gmail.com</td>\n",
       "      <td>31</td>\n",
       "      <td>UK</td>\n",
       "      <td>55000</td>\n",
       "      <td>Java</td>\n",
       "    </tr>\n",
       "    <tr>\n",
       "      <th>24</th>\n",
       "      <td>Mark</td>\n",
       "      <td>Smith</td>\n",
       "      <td>msmith94@gmail.com</td>\n",
       "      <td>32</td>\n",
       "      <td>Australia</td>\n",
       "      <td>65000</td>\n",
       "      <td>Java</td>\n",
       "    </tr>\n",
       "    <tr>\n",
       "      <th>25</th>\n",
       "      <td>Erik</td>\n",
       "      <td>Terry</td>\n",
       "      <td>eterry45@gmail.com</td>\n",
       "      <td>25</td>\n",
       "      <td>Scotland</td>\n",
       "      <td>71000</td>\n",
       "      <td>Ruby</td>\n",
       "    </tr>\n",
       "    <tr>\n",
       "      <th>26</th>\n",
       "      <td>Aaron</td>\n",
       "      <td>Ronson</td>\n",
       "      <td>aronson59@gmail.com</td>\n",
       "      <td>31</td>\n",
       "      <td>UK</td>\n",
       "      <td>40000</td>\n",
       "      <td>Java</td>\n",
       "    </tr>\n",
       "    <tr>\n",
       "      <th>27</th>\n",
       "      <td>Carl</td>\n",
       "      <td>Atkinson</td>\n",
       "      <td>catkinson68@gmail.com</td>\n",
       "      <td>37</td>\n",
       "      <td>Australia</td>\n",
       "      <td>105000</td>\n",
       "      <td>Java</td>\n",
       "    </tr>\n",
       "    <tr>\n",
       "      <th>28</th>\n",
       "      <td>William</td>\n",
       "      <td>Williamson</td>\n",
       "      <td>wwilliamson93@gmail.com</td>\n",
       "      <td>36</td>\n",
       "      <td>Scotland</td>\n",
       "      <td>92000</td>\n",
       "      <td>Java</td>\n",
       "    </tr>\n",
       "    <tr>\n",
       "      <th>29</th>\n",
       "      <td>Salim</td>\n",
       "      <td>Kimmel</td>\n",
       "      <td>skimmel57@gmail.com</td>\n",
       "      <td>35</td>\n",
       "      <td>Australia</td>\n",
       "      <td>120000</td>\n",
       "      <td>PHP</td>\n",
       "    </tr>\n",
       "    <tr>\n",
       "      <th>30</th>\n",
       "      <td>Frederick</td>\n",
       "      <td>Perreira</td>\n",
       "      <td>fperreira94@gmail.com</td>\n",
       "      <td>38</td>\n",
       "      <td>Canada</td>\n",
       "      <td>41000</td>\n",
       "      <td>Java</td>\n",
       "    </tr>\n",
       "    <tr>\n",
       "      <th>31</th>\n",
       "      <td>Magnus</td>\n",
       "      <td>Manning</td>\n",
       "      <td>mmanning77@gmail.com</td>\n",
       "      <td>33</td>\n",
       "      <td>USA</td>\n",
       "      <td>81000</td>\n",
       "      <td>R</td>\n",
       "    </tr>\n",
       "    <tr>\n",
       "      <th>32</th>\n",
       "      <td>Edwin</td>\n",
       "      <td>Hamilton</td>\n",
       "      <td>ehamilton86@gmail.com</td>\n",
       "      <td>25</td>\n",
       "      <td>New Zealand</td>\n",
       "      <td>82000</td>\n",
       "      <td>Python</td>\n",
       "    </tr>\n",
       "    <tr>\n",
       "      <th>33</th>\n",
       "      <td>Neil</td>\n",
       "      <td>Magnusson</td>\n",
       "      <td>nmagnusson54@gmail.com</td>\n",
       "      <td>39</td>\n",
       "      <td>UK</td>\n",
       "      <td>108000</td>\n",
       "      <td>Ruby</td>\n",
       "    </tr>\n",
       "    <tr>\n",
       "      <th>34</th>\n",
       "      <td>Peter</td>\n",
       "      <td>Robinson</td>\n",
       "      <td>probinson48@gmail.com</td>\n",
       "      <td>29</td>\n",
       "      <td>USA</td>\n",
       "      <td>109000</td>\n",
       "      <td>Ruby</td>\n",
       "    </tr>\n",
       "    <tr>\n",
       "      <th>35</th>\n",
       "      <td>Peter</td>\n",
       "      <td>Tanner</td>\n",
       "      <td>ptanner12@gmail.com</td>\n",
       "      <td>36</td>\n",
       "      <td>New Zealand</td>\n",
       "      <td>68000</td>\n",
       "      <td>PHP</td>\n",
       "    </tr>\n",
       "    <tr>\n",
       "      <th>36</th>\n",
       "      <td>Jack</td>\n",
       "      <td>Patten</td>\n",
       "      <td>jpatten95@gmail.com</td>\n",
       "      <td>30</td>\n",
       "      <td>New Zealand</td>\n",
       "      <td>73000</td>\n",
       "      <td>html; CSS; Javascript</td>\n",
       "    </tr>\n",
       "    <tr>\n",
       "      <th>37</th>\n",
       "      <td>Jason</td>\n",
       "      <td>Terry</td>\n",
       "      <td>jterry59@gmail.com</td>\n",
       "      <td>39</td>\n",
       "      <td>Scotland</td>\n",
       "      <td>59000</td>\n",
       "      <td>Python</td>\n",
       "    </tr>\n",
       "    <tr>\n",
       "      <th>38</th>\n",
       "      <td>Conrad</td>\n",
       "      <td>Williams</td>\n",
       "      <td>cwilliams60@gmail.com</td>\n",
       "      <td>36</td>\n",
       "      <td>UK</td>\n",
       "      <td>99000</td>\n",
       "      <td>html; CSS; Javascript</td>\n",
       "    </tr>\n",
       "    <tr>\n",
       "      <th>39</th>\n",
       "      <td>Martin</td>\n",
       "      <td>Eriksen</td>\n",
       "      <td>meriksen65@gmail.com</td>\n",
       "      <td>28</td>\n",
       "      <td>USA</td>\n",
       "      <td>119000</td>\n",
       "      <td>Python</td>\n",
       "    </tr>\n",
       "    <tr>\n",
       "      <th>40</th>\n",
       "      <td>Andrew</td>\n",
       "      <td>Fernandez</td>\n",
       "      <td>afernandez67@gmail.com</td>\n",
       "      <td>33</td>\n",
       "      <td>USA</td>\n",
       "      <td>100000</td>\n",
       "      <td>Java</td>\n",
       "    </tr>\n",
       "    <tr>\n",
       "      <th>41</th>\n",
       "      <td>Andrew</td>\n",
       "      <td>Hvar</td>\n",
       "      <td>ahvar56@gmail.com</td>\n",
       "      <td>42</td>\n",
       "      <td>USA</td>\n",
       "      <td>40000</td>\n",
       "      <td>Python</td>\n",
       "    </tr>\n",
       "    <tr>\n",
       "      <th>42</th>\n",
       "      <td>Russel</td>\n",
       "      <td>Woodburn</td>\n",
       "      <td>rwoodburn12@gmail.com</td>\n",
       "      <td>25</td>\n",
       "      <td>New Zealand</td>\n",
       "      <td>42000</td>\n",
       "      <td>Ruby</td>\n",
       "    </tr>\n",
       "    <tr>\n",
       "      <th>43</th>\n",
       "      <td>John</td>\n",
       "      <td>Stevenson</td>\n",
       "      <td>jstevenson63@gmail.com</td>\n",
       "      <td>26</td>\n",
       "      <td>Australia</td>\n",
       "      <td>111000</td>\n",
       "      <td>Ruby</td>\n",
       "    </tr>\n",
       "    <tr>\n",
       "      <th>44</th>\n",
       "      <td>Quentin</td>\n",
       "      <td>Mendez</td>\n",
       "      <td>qmendez82@gmail.com</td>\n",
       "      <td>45</td>\n",
       "      <td>UK</td>\n",
       "      <td>113000</td>\n",
       "      <td>Dart</td>\n",
       "    </tr>\n",
       "    <tr>\n",
       "      <th>45</th>\n",
       "      <td>Carl</td>\n",
       "      <td>Aygun</td>\n",
       "      <td>caygun41@gmail.com</td>\n",
       "      <td>43</td>\n",
       "      <td>Scotland</td>\n",
       "      <td>82000</td>\n",
       "      <td>Dart</td>\n",
       "    </tr>\n",
       "    <tr>\n",
       "      <th>46</th>\n",
       "      <td>Adam</td>\n",
       "      <td>Flick</td>\n",
       "      <td>aflick49@gmail.com</td>\n",
       "      <td>32</td>\n",
       "      <td>Canada</td>\n",
       "      <td>62000</td>\n",
       "      <td>R</td>\n",
       "    </tr>\n",
       "    <tr>\n",
       "      <th>47</th>\n",
       "      <td>Frank</td>\n",
       "      <td>Morten</td>\n",
       "      <td>fmorten39@gmail.com</td>\n",
       "      <td>32</td>\n",
       "      <td>Australia</td>\n",
       "      <td>54000</td>\n",
       "      <td>R</td>\n",
       "    </tr>\n",
       "    <tr>\n",
       "      <th>48</th>\n",
       "      <td>Bill</td>\n",
       "      <td>Williams</td>\n",
       "      <td>bwilliams16@gmail.com</td>\n",
       "      <td>45</td>\n",
       "      <td>UK</td>\n",
       "      <td>110000</td>\n",
       "      <td>R</td>\n",
       "    </tr>\n",
       "    <tr>\n",
       "      <th>49</th>\n",
       "      <td>Tyler</td>\n",
       "      <td>Eriksen</td>\n",
       "      <td>teriksen52@gmail.com</td>\n",
       "      <td>27</td>\n",
       "      <td>USA</td>\n",
       "      <td>50000</td>\n",
       "      <td>Dart</td>\n",
       "    </tr>\n",
       "    <tr>\n",
       "      <th>50</th>\n",
       "      <td>Victor</td>\n",
       "      <td>Magnusson</td>\n",
       "      <td>vmagnusson39@gmail.com</td>\n",
       "      <td>32</td>\n",
       "      <td>Canada</td>\n",
       "      <td>75000</td>\n",
       "      <td>Java</td>\n",
       "    </tr>\n",
       "    <tr>\n",
       "      <th>51</th>\n",
       "      <td>Mark</td>\n",
       "      <td>Lehmann</td>\n",
       "      <td>mlehmann74@gmail.com</td>\n",
       "      <td>34</td>\n",
       "      <td>Scotland</td>\n",
       "      <td>41000</td>\n",
       "      <td>R</td>\n",
       "    </tr>\n",
       "    <tr>\n",
       "      <th>52</th>\n",
       "      <td>Ron</td>\n",
       "      <td>Stevenson</td>\n",
       "      <td>rstevenson80@gmail.com</td>\n",
       "      <td>40</td>\n",
       "      <td>Australia</td>\n",
       "      <td>112000</td>\n",
       "      <td>Python</td>\n",
       "    </tr>\n",
       "    <tr>\n",
       "      <th>53</th>\n",
       "      <td>Oswald</td>\n",
       "      <td>Gerard</td>\n",
       "      <td>ogerard55@gmail.com</td>\n",
       "      <td>25</td>\n",
       "      <td>UK</td>\n",
       "      <td>69000</td>\n",
       "      <td>Ruby</td>\n",
       "    </tr>\n",
       "  </tbody>\n",
       "</table>\n",
       "</div>"
      ],
      "text/plain": [
       "   first_name   last_name                    email  age      country  salary  \\\n",
       "0       Frank      Thomas      fthomas94@gmail.com   34     Scotland  117000   \n",
       "1        Carl      Hansen      chansen28@gmail.com   38           UK  101000   \n",
       "2       Aaron      Hansen      ahansen75@gmail.com   26       Canada   92000   \n",
       "3        Evan    Phillips    ephillips75@gmail.com   30    Australia   51000   \n",
       "4    Benjamin      Kramer      bkramer29@gmail.com   34     Scotland   71000   \n",
       "5      Steven     Roberts     sroberts46@gmail.com   43     Scotland   57000   \n",
       "6     Gabriel      Fraser      gfraser84@gmail.com   37     Scotland   74000   \n",
       "7      Andrew       Flick       aflick69@gmail.com   37    Australia   72000   \n",
       "8        Erik    Williams    ewilliams55@gmail.com   42    Australia   65000   \n",
       "9      Daniel        Hank        dhank42@gmail.com   27          USA  107000   \n",
       "10  Frederick      Kimmel      fkimmel54@gmail.com   36           UK   82000   \n",
       "11  Stanislas    Williams    swilliams29@gmail.com   45           UK   71000   \n",
       "12      David     Eriksen     deriksen79@gmail.com   35    Australia   66000   \n",
       "13      Oscar       Samir       osamir10@gmail.com   25  New Zealand   91000   \n",
       "14     Steven      Patten      spatten89@gmail.com   25  New Zealand   73000   \n",
       "15     Andrew      Hassan      ahassan25@gmail.com   44    Australia   59000   \n",
       "16     Xavier      Albert      xalbert12@gmail.com   43    Australia   66000   \n",
       "17    Patrick      Patten      ppatten96@gmail.com   25           UK   72000   \n",
       "18        Ian      Gerard      igerard99@gmail.com   38       Canada   85000   \n",
       "19       John       Towns       jtowns14@gmail.com   38          USA   95000   \n",
       "20  Stanislas  Williamson  swilliamson38@gmail.com   31           UK   61000   \n",
       "21       Amin        Hank        ahank60@gmail.com   25          USA   49000   \n",
       "22     Xavier    Richards    xrichards36@gmail.com   40    Australia   46000   \n",
       "23       Neil      Bulsic      nbulsic77@gmail.com   31           UK   55000   \n",
       "24       Mark       Smith       msmith94@gmail.com   32    Australia   65000   \n",
       "25       Erik       Terry       eterry45@gmail.com   25     Scotland   71000   \n",
       "26      Aaron      Ronson      aronson59@gmail.com   31           UK   40000   \n",
       "27       Carl    Atkinson    catkinson68@gmail.com   37    Australia  105000   \n",
       "28    William  Williamson  wwilliamson93@gmail.com   36     Scotland   92000   \n",
       "29      Salim      Kimmel      skimmel57@gmail.com   35    Australia  120000   \n",
       "30  Frederick    Perreira    fperreira94@gmail.com   38       Canada   41000   \n",
       "31     Magnus     Manning     mmanning77@gmail.com   33          USA   81000   \n",
       "32      Edwin    Hamilton    ehamilton86@gmail.com   25  New Zealand   82000   \n",
       "33       Neil   Magnusson   nmagnusson54@gmail.com   39           UK  108000   \n",
       "34      Peter    Robinson    probinson48@gmail.com   29          USA  109000   \n",
       "35      Peter      Tanner      ptanner12@gmail.com   36  New Zealand   68000   \n",
       "36       Jack      Patten      jpatten95@gmail.com   30  New Zealand   73000   \n",
       "37      Jason       Terry       jterry59@gmail.com   39     Scotland   59000   \n",
       "38     Conrad    Williams    cwilliams60@gmail.com   36           UK   99000   \n",
       "39     Martin     Eriksen     meriksen65@gmail.com   28          USA  119000   \n",
       "40     Andrew   Fernandez   afernandez67@gmail.com   33          USA  100000   \n",
       "41     Andrew        Hvar        ahvar56@gmail.com   42          USA   40000   \n",
       "42     Russel    Woodburn    rwoodburn12@gmail.com   25  New Zealand   42000   \n",
       "43       John   Stevenson   jstevenson63@gmail.com   26    Australia  111000   \n",
       "44    Quentin      Mendez      qmendez82@gmail.com   45           UK  113000   \n",
       "45       Carl       Aygun       caygun41@gmail.com   43     Scotland   82000   \n",
       "46       Adam       Flick       aflick49@gmail.com   32       Canada   62000   \n",
       "47      Frank      Morten      fmorten39@gmail.com   32    Australia   54000   \n",
       "48       Bill    Williams    bwilliams16@gmail.com   45           UK  110000   \n",
       "49      Tyler     Eriksen     teriksen52@gmail.com   27          USA   50000   \n",
       "50     Victor   Magnusson   vmagnusson39@gmail.com   32       Canada   75000   \n",
       "51       Mark     Lehmann     mlehmann74@gmail.com   34     Scotland   41000   \n",
       "52        Ron   Stevenson   rstevenson80@gmail.com   40    Australia  112000   \n",
       "53     Oswald      Gerard      ogerard55@gmail.com   25           UK   69000   \n",
       "\n",
       "                languages  \n",
       "0                       R  \n",
       "1                    Ruby  \n",
       "2                     PHP  \n",
       "3                       R  \n",
       "4                  Python  \n",
       "5                    Java  \n",
       "6   html; CSS; Javascript  \n",
       "7   html; CSS; Javascript  \n",
       "8                     PHP  \n",
       "9                    Java  \n",
       "10                   Ruby  \n",
       "11                    PHP  \n",
       "12                      R  \n",
       "13                      R  \n",
       "14                   Dart  \n",
       "15                      R  \n",
       "16                      R  \n",
       "17                      R  \n",
       "18                    PHP  \n",
       "19                   Dart  \n",
       "20                   Java  \n",
       "21                   Ruby  \n",
       "22                   Dart  \n",
       "23                   Java  \n",
       "24                   Java  \n",
       "25                   Ruby  \n",
       "26                   Java  \n",
       "27                   Java  \n",
       "28                   Java  \n",
       "29                    PHP  \n",
       "30                   Java  \n",
       "31                      R  \n",
       "32                 Python  \n",
       "33                   Ruby  \n",
       "34                   Ruby  \n",
       "35                    PHP  \n",
       "36  html; CSS; Javascript  \n",
       "37                 Python  \n",
       "38  html; CSS; Javascript  \n",
       "39                 Python  \n",
       "40                   Java  \n",
       "41                 Python  \n",
       "42                   Ruby  \n",
       "43                   Ruby  \n",
       "44                   Dart  \n",
       "45                   Dart  \n",
       "46                      R  \n",
       "47                      R  \n",
       "48                      R  \n",
       "49                   Dart  \n",
       "50                   Java  \n",
       "51                      R  \n",
       "52                 Python  \n",
       "53                   Ruby  "
      ]
     },
     "execution_count": 9,
     "metadata": {},
     "output_type": "execute_result"
    }
   ],
   "source": [
    "df = pd.read_csv('./df.csv')\n",
    "df"
   ]
  },
  {
   "cell_type": "markdown",
   "id": "7b0917ff-f219-4833-a1a4-a731ff9c08d6",
   "metadata": {
    "tags": []
   },
   "source": [
    "<hr>\n",
    "<br>\n"
   ]
  },
  {
   "cell_type": "markdown",
   "id": "724a30ff-be5a-48da-b7d7-649d912a4cac",
   "metadata": {
    "tags": []
   },
   "source": [
    "<a id='method_info'></a>\n",
    "### Methods to obtain information from data\n",
    "\n",
    "> Now that the data is loaded, I am going to point out the general and most used methods in **Pandas**. As well as explain the purpose of every method.\n",
    "<br>\n",
    "<br>\n",
    "**You can find all the methods at** https://pandas.pydata.org/docs/reference/frame.html"
   ]
  },
  {
   "cell_type": "code",
   "execution_count": 10,
   "id": "8bb44410-8563-4a62-9a27-204ff45f62a3",
   "metadata": {},
   "outputs": [
    {
     "name": "stdout",
     "output_type": "stream",
     "text": [
      "<class 'pandas.core.frame.DataFrame'>\n",
      "RangeIndex: 54 entries, 0 to 53\n",
      "Data columns (total 7 columns):\n",
      " #   Column      Non-Null Count  Dtype \n",
      "---  ------      --------------  ----- \n",
      " 0   first_name  54 non-null     object\n",
      " 1   last_name   54 non-null     object\n",
      " 2   email       54 non-null     object\n",
      " 3   age         54 non-null     int64 \n",
      " 4   country     54 non-null     object\n",
      " 5   salary      54 non-null     int64 \n",
      " 6   languages   54 non-null     object\n",
      "dtypes: int64(2), object(5)\n",
      "memory usage: 3.1+ KB\n"
     ]
    }
   ],
   "source": [
    "df.info()     # Returns a concise summary of the DataFrame"
   ]
  },
  {
   "cell_type": "code",
   "execution_count": 11,
   "id": "47222499-46bf-4108-ab71-50bbb09b039d",
   "metadata": {},
   "outputs": [
    {
     "data": {
      "text/html": [
       "<div>\n",
       "<style scoped>\n",
       "    .dataframe tbody tr th:only-of-type {\n",
       "        vertical-align: middle;\n",
       "    }\n",
       "\n",
       "    .dataframe tbody tr th {\n",
       "        vertical-align: top;\n",
       "    }\n",
       "\n",
       "    .dataframe thead th {\n",
       "        text-align: right;\n",
       "    }\n",
       "</style>\n",
       "<table border=\"1\" class=\"dataframe\">\n",
       "  <thead>\n",
       "    <tr style=\"text-align: right;\">\n",
       "      <th></th>\n",
       "      <th>first_name</th>\n",
       "      <th>last_name</th>\n",
       "      <th>email</th>\n",
       "      <th>age</th>\n",
       "      <th>country</th>\n",
       "      <th>salary</th>\n",
       "      <th>languages</th>\n",
       "    </tr>\n",
       "  </thead>\n",
       "  <tbody>\n",
       "    <tr>\n",
       "      <th>0</th>\n",
       "      <td>Frank</td>\n",
       "      <td>Thomas</td>\n",
       "      <td>fthomas94@gmail.com</td>\n",
       "      <td>34</td>\n",
       "      <td>Scotland</td>\n",
       "      <td>117000</td>\n",
       "      <td>R</td>\n",
       "    </tr>\n",
       "    <tr>\n",
       "      <th>1</th>\n",
       "      <td>Carl</td>\n",
       "      <td>Hansen</td>\n",
       "      <td>chansen28@gmail.com</td>\n",
       "      <td>38</td>\n",
       "      <td>UK</td>\n",
       "      <td>101000</td>\n",
       "      <td>Ruby</td>\n",
       "    </tr>\n",
       "    <tr>\n",
       "      <th>2</th>\n",
       "      <td>Aaron</td>\n",
       "      <td>Hansen</td>\n",
       "      <td>ahansen75@gmail.com</td>\n",
       "      <td>26</td>\n",
       "      <td>Canada</td>\n",
       "      <td>92000</td>\n",
       "      <td>PHP</td>\n",
       "    </tr>\n",
       "    <tr>\n",
       "      <th>3</th>\n",
       "      <td>Evan</td>\n",
       "      <td>Phillips</td>\n",
       "      <td>ephillips75@gmail.com</td>\n",
       "      <td>30</td>\n",
       "      <td>Australia</td>\n",
       "      <td>51000</td>\n",
       "      <td>R</td>\n",
       "    </tr>\n",
       "    <tr>\n",
       "      <th>4</th>\n",
       "      <td>Benjamin</td>\n",
       "      <td>Kramer</td>\n",
       "      <td>bkramer29@gmail.com</td>\n",
       "      <td>34</td>\n",
       "      <td>Scotland</td>\n",
       "      <td>71000</td>\n",
       "      <td>Python</td>\n",
       "    </tr>\n",
       "  </tbody>\n",
       "</table>\n",
       "</div>"
      ],
      "text/plain": [
       "  first_name last_name                  email  age    country  salary  \\\n",
       "0      Frank    Thomas    fthomas94@gmail.com   34   Scotland  117000   \n",
       "1       Carl    Hansen    chansen28@gmail.com   38         UK  101000   \n",
       "2      Aaron    Hansen    ahansen75@gmail.com   26     Canada   92000   \n",
       "3       Evan  Phillips  ephillips75@gmail.com   30  Australia   51000   \n",
       "4   Benjamin    Kramer    bkramer29@gmail.com   34   Scotland   71000   \n",
       "\n",
       "  languages  \n",
       "0         R  \n",
       "1      Ruby  \n",
       "2       PHP  \n",
       "3         R  \n",
       "4    Python  "
      ]
     },
     "execution_count": 11,
     "metadata": {},
     "output_type": "execute_result"
    }
   ],
   "source": [
    "df.head()     # Returns the first 5 rows (You can pass the number of rows you want as arg)"
   ]
  },
  {
   "cell_type": "code",
   "execution_count": 12,
   "id": "13f3e8e9-26cf-4a5b-9d4a-66dcc626c28a",
   "metadata": {},
   "outputs": [
    {
     "data": {
      "text/html": [
       "<div>\n",
       "<style scoped>\n",
       "    .dataframe tbody tr th:only-of-type {\n",
       "        vertical-align: middle;\n",
       "    }\n",
       "\n",
       "    .dataframe tbody tr th {\n",
       "        vertical-align: top;\n",
       "    }\n",
       "\n",
       "    .dataframe thead th {\n",
       "        text-align: right;\n",
       "    }\n",
       "</style>\n",
       "<table border=\"1\" class=\"dataframe\">\n",
       "  <thead>\n",
       "    <tr style=\"text-align: right;\">\n",
       "      <th></th>\n",
       "      <th>first_name</th>\n",
       "      <th>last_name</th>\n",
       "      <th>email</th>\n",
       "      <th>age</th>\n",
       "      <th>country</th>\n",
       "      <th>salary</th>\n",
       "      <th>languages</th>\n",
       "    </tr>\n",
       "  </thead>\n",
       "  <tbody>\n",
       "    <tr>\n",
       "      <th>49</th>\n",
       "      <td>Tyler</td>\n",
       "      <td>Eriksen</td>\n",
       "      <td>teriksen52@gmail.com</td>\n",
       "      <td>27</td>\n",
       "      <td>USA</td>\n",
       "      <td>50000</td>\n",
       "      <td>Dart</td>\n",
       "    </tr>\n",
       "    <tr>\n",
       "      <th>50</th>\n",
       "      <td>Victor</td>\n",
       "      <td>Magnusson</td>\n",
       "      <td>vmagnusson39@gmail.com</td>\n",
       "      <td>32</td>\n",
       "      <td>Canada</td>\n",
       "      <td>75000</td>\n",
       "      <td>Java</td>\n",
       "    </tr>\n",
       "    <tr>\n",
       "      <th>51</th>\n",
       "      <td>Mark</td>\n",
       "      <td>Lehmann</td>\n",
       "      <td>mlehmann74@gmail.com</td>\n",
       "      <td>34</td>\n",
       "      <td>Scotland</td>\n",
       "      <td>41000</td>\n",
       "      <td>R</td>\n",
       "    </tr>\n",
       "    <tr>\n",
       "      <th>52</th>\n",
       "      <td>Ron</td>\n",
       "      <td>Stevenson</td>\n",
       "      <td>rstevenson80@gmail.com</td>\n",
       "      <td>40</td>\n",
       "      <td>Australia</td>\n",
       "      <td>112000</td>\n",
       "      <td>Python</td>\n",
       "    </tr>\n",
       "    <tr>\n",
       "      <th>53</th>\n",
       "      <td>Oswald</td>\n",
       "      <td>Gerard</td>\n",
       "      <td>ogerard55@gmail.com</td>\n",
       "      <td>25</td>\n",
       "      <td>UK</td>\n",
       "      <td>69000</td>\n",
       "      <td>Ruby</td>\n",
       "    </tr>\n",
       "  </tbody>\n",
       "</table>\n",
       "</div>"
      ],
      "text/plain": [
       "   first_name  last_name                   email  age    country  salary  \\\n",
       "49      Tyler    Eriksen    teriksen52@gmail.com   27        USA   50000   \n",
       "50     Victor  Magnusson  vmagnusson39@gmail.com   32     Canada   75000   \n",
       "51       Mark    Lehmann    mlehmann74@gmail.com   34   Scotland   41000   \n",
       "52        Ron  Stevenson  rstevenson80@gmail.com   40  Australia  112000   \n",
       "53     Oswald     Gerard     ogerard55@gmail.com   25         UK   69000   \n",
       "\n",
       "   languages  \n",
       "49      Dart  \n",
       "50      Java  \n",
       "51         R  \n",
       "52    Python  \n",
       "53      Ruby  "
      ]
     },
     "execution_count": 12,
     "metadata": {},
     "output_type": "execute_result"
    }
   ],
   "source": [
    "df.tail()     # Returns the last 5 rows (You can pass the number of rows you want as arg)"
   ]
  },
  {
   "cell_type": "code",
   "execution_count": 13,
   "id": "3c59fec4-028f-4a74-accc-f5ed97f2ce35",
   "metadata": {},
   "outputs": [
    {
     "data": {
      "text/plain": [
       "first_name                   Xavier\n",
       "last_name                  Woodburn\n",
       "email         xrichards36@gmail.com\n",
       "age                              45\n",
       "country                         USA\n",
       "salary                       120000\n",
       "languages     html; CSS; Javascript\n",
       "dtype: object"
      ]
     },
     "execution_count": 13,
     "metadata": {},
     "output_type": "execute_result"
    }
   ],
   "source": [
    "df.max()     # Returns maximum values for columns in DataFrame"
   ]
  },
  {
   "cell_type": "code",
   "execution_count": 14,
   "id": "ddb54f6c-a1d6-48d5-89c0-be94c8d86653",
   "metadata": {},
   "outputs": [
    {
     "data": {
      "text/plain": [
       "first_name                     Aaron\n",
       "last_name                     Albert\n",
       "email         afernandez67@gmail.com\n",
       "age                               25\n",
       "country                    Australia\n",
       "salary                         40000\n",
       "languages                       Dart\n",
       "dtype: object"
      ]
     },
     "execution_count": 14,
     "metadata": {},
     "output_type": "execute_result"
    }
   ],
   "source": [
    "df.min()     # Returns minimum values for columns in DataFrame"
   ]
  },
  {
   "cell_type": "code",
   "execution_count": 15,
   "id": "05ad1a76-5b64-4f37-90e6-7f0301b26d4c",
   "metadata": {},
   "outputs": [
    {
     "data": {
      "text/plain": [
       "(54, 7)"
      ]
     },
     "execution_count": 15,
     "metadata": {},
     "output_type": "execute_result"
    }
   ],
   "source": [
    "df.shape     # Returns a tuple representing the dimensions of the DataFrame"
   ]
  },
  {
   "cell_type": "code",
   "execution_count": 16,
   "id": "296d87bb-7e68-4c95-a44f-9cda9d818e86",
   "metadata": {},
   "outputs": [
    {
     "data": {
      "text/plain": [
       "first_name    object\n",
       "last_name     object\n",
       "email         object\n",
       "age            int64\n",
       "country       object\n",
       "salary         int64\n",
       "languages     object\n",
       "dtype: object"
      ]
     },
     "execution_count": 16,
     "metadata": {},
     "output_type": "execute_result"
    }
   ],
   "source": [
    "df.dtypes     # Returns data types of columns in DataFrame"
   ]
  },
  {
   "cell_type": "code",
   "execution_count": 17,
   "id": "46bda6fc-132d-4cef-abcf-aab08404a561",
   "metadata": {},
   "outputs": [
    {
     "data": {
      "text/html": [
       "<div>\n",
       "<style scoped>\n",
       "    .dataframe tbody tr th:only-of-type {\n",
       "        vertical-align: middle;\n",
       "    }\n",
       "\n",
       "    .dataframe tbody tr th {\n",
       "        vertical-align: top;\n",
       "    }\n",
       "\n",
       "    .dataframe thead th {\n",
       "        text-align: right;\n",
       "    }\n",
       "</style>\n",
       "<table border=\"1\" class=\"dataframe\">\n",
       "  <thead>\n",
       "    <tr style=\"text-align: right;\">\n",
       "      <th></th>\n",
       "      <th>age</th>\n",
       "      <th>salary</th>\n",
       "    </tr>\n",
       "  </thead>\n",
       "  <tbody>\n",
       "    <tr>\n",
       "      <th>count</th>\n",
       "      <td>54.000000</td>\n",
       "      <td>54.000000</td>\n",
       "    </tr>\n",
       "    <tr>\n",
       "      <th>mean</th>\n",
       "      <td>34.055556</td>\n",
       "      <td>77240.740741</td>\n",
       "    </tr>\n",
       "    <tr>\n",
       "      <th>std</th>\n",
       "      <td>6.259835</td>\n",
       "      <td>23586.000953</td>\n",
       "    </tr>\n",
       "    <tr>\n",
       "      <th>min</th>\n",
       "      <td>25.000000</td>\n",
       "      <td>40000.000000</td>\n",
       "    </tr>\n",
       "    <tr>\n",
       "      <th>25%</th>\n",
       "      <td>29.250000</td>\n",
       "      <td>59500.000000</td>\n",
       "    </tr>\n",
       "    <tr>\n",
       "      <th>50%</th>\n",
       "      <td>34.000000</td>\n",
       "      <td>72500.000000</td>\n",
       "    </tr>\n",
       "    <tr>\n",
       "      <th>75%</th>\n",
       "      <td>38.000000</td>\n",
       "      <td>98000.000000</td>\n",
       "    </tr>\n",
       "    <tr>\n",
       "      <th>max</th>\n",
       "      <td>45.000000</td>\n",
       "      <td>120000.000000</td>\n",
       "    </tr>\n",
       "  </tbody>\n",
       "</table>\n",
       "</div>"
      ],
      "text/plain": [
       "             age         salary\n",
       "count  54.000000      54.000000\n",
       "mean   34.055556   77240.740741\n",
       "std     6.259835   23586.000953\n",
       "min    25.000000   40000.000000\n",
       "25%    29.250000   59500.000000\n",
       "50%    34.000000   72500.000000\n",
       "75%    38.000000   98000.000000\n",
       "max    45.000000  120000.000000"
      ]
     },
     "execution_count": 17,
     "metadata": {},
     "output_type": "execute_result"
    }
   ],
   "source": [
    "df.describe()     # Returns descriptive statistics on DataFrame"
   ]
  },
  {
   "cell_type": "code",
   "execution_count": 18,
   "id": "4608c859-7b18-4c3c-aa1e-ecce1446cabd",
   "metadata": {},
   "outputs": [
    {
     "data": {
      "text/plain": [
       "0"
      ]
     },
     "execution_count": 18,
     "metadata": {},
     "output_type": "execute_result"
    }
   ],
   "source": [
    "df.duplicated().sum()     # Returns sum of duplicate rows"
   ]
  },
  {
   "cell_type": "code",
   "execution_count": 19,
   "id": "15242fa7-909f-4b3d-963a-2ae9a47f96e1",
   "metadata": {},
   "outputs": [
    {
     "data": {
      "text/plain": [
       "first_name    0\n",
       "last_name     0\n",
       "email         0\n",
       "age           0\n",
       "country       0\n",
       "salary        0\n",
       "languages     0\n",
       "dtype: int64"
      ]
     },
     "execution_count": 19,
     "metadata": {},
     "output_type": "execute_result"
    }
   ],
   "source": [
    "df.isna().sum()      # Returns sum of missing values"
   ]
  },
  {
   "cell_type": "code",
   "execution_count": 20,
   "id": "16146cbc-5c73-4c4b-bb61-84a9b58dac6b",
   "metadata": {},
   "outputs": [
    {
     "data": {
      "text/plain": [
       "first_name    0\n",
       "last_name     0\n",
       "email         0\n",
       "age           0\n",
       "country       0\n",
       "salary        0\n",
       "languages     0\n",
       "dtype: int64"
      ]
     },
     "execution_count": 20,
     "metadata": {},
     "output_type": "execute_result"
    }
   ],
   "source": [
    "df.isnull().sum()     # Returns sum of missing values"
   ]
  },
  {
   "cell_type": "markdown",
   "id": "ff1ecab4-3eca-4f13-a48a-34ab513db77c",
   "metadata": {},
   "source": [
    "> *These are the most common methods you will use to obtain preliminary information about the DataFrame.*\n",
    "\n",
    "<br>\n",
    "<br>\n",
    "<hr>"
   ]
  },
  {
   "cell_type": "markdown",
   "id": "4be7f69d-4c9c-40ba-83a9-1900336d1757",
   "metadata": {
    "tags": []
   },
   "source": [
    "<a id='method_index'></a>\n",
    "### Indexing"
   ]
  },
  {
   "cell_type": "markdown",
   "id": "96b1b66a-b4a7-4e7b-8bad-0530e22330b1",
   "metadata": {},
   "source": [
    "> In this section, I will demonstrate how to index specific columns from the DataFrame and the methods that can be applied to those columns."
   ]
  },
  {
   "cell_type": "markdown",
   "id": "61a7e8bf-df2b-4439-a9da-f979b9895264",
   "metadata": {},
   "source": [
    "#### 1. Indexing Columns"
   ]
  },
  {
   "cell_type": "code",
   "execution_count": 21,
   "id": "ca547f4d-ce54-4afb-be30-36c2b9382b9d",
   "metadata": {},
   "outputs": [
    {
     "data": {
      "text/plain": [
       "0         fthomas94@gmail.com\n",
       "1         chansen28@gmail.com\n",
       "2         ahansen75@gmail.com\n",
       "3       ephillips75@gmail.com\n",
       "4         bkramer29@gmail.com\n",
       "5        sroberts46@gmail.com\n",
       "6         gfraser84@gmail.com\n",
       "7          aflick69@gmail.com\n",
       "8       ewilliams55@gmail.com\n",
       "9           dhank42@gmail.com\n",
       "10        fkimmel54@gmail.com\n",
       "11      swilliams29@gmail.com\n",
       "12       deriksen79@gmail.com\n",
       "13         osamir10@gmail.com\n",
       "14        spatten89@gmail.com\n",
       "15        ahassan25@gmail.com\n",
       "16        xalbert12@gmail.com\n",
       "17        ppatten96@gmail.com\n",
       "18        igerard99@gmail.com\n",
       "19         jtowns14@gmail.com\n",
       "20    swilliamson38@gmail.com\n",
       "21          ahank60@gmail.com\n",
       "22      xrichards36@gmail.com\n",
       "23        nbulsic77@gmail.com\n",
       "24         msmith94@gmail.com\n",
       "25         eterry45@gmail.com\n",
       "26        aronson59@gmail.com\n",
       "27      catkinson68@gmail.com\n",
       "28    wwilliamson93@gmail.com\n",
       "29        skimmel57@gmail.com\n",
       "30      fperreira94@gmail.com\n",
       "31       mmanning77@gmail.com\n",
       "32      ehamilton86@gmail.com\n",
       "33     nmagnusson54@gmail.com\n",
       "34      probinson48@gmail.com\n",
       "35        ptanner12@gmail.com\n",
       "36        jpatten95@gmail.com\n",
       "37         jterry59@gmail.com\n",
       "38      cwilliams60@gmail.com\n",
       "39       meriksen65@gmail.com\n",
       "40     afernandez67@gmail.com\n",
       "41          ahvar56@gmail.com\n",
       "42      rwoodburn12@gmail.com\n",
       "43     jstevenson63@gmail.com\n",
       "44        qmendez82@gmail.com\n",
       "45         caygun41@gmail.com\n",
       "46         aflick49@gmail.com\n",
       "47        fmorten39@gmail.com\n",
       "48      bwilliams16@gmail.com\n",
       "49       teriksen52@gmail.com\n",
       "50     vmagnusson39@gmail.com\n",
       "51       mlehmann74@gmail.com\n",
       "52     rstevenson80@gmail.com\n",
       "53        ogerard55@gmail.com\n",
       "Name: email, dtype: object"
      ]
     },
     "execution_count": 21,
     "metadata": {},
     "output_type": "execute_result"
    }
   ],
   "source": [
    "df['email']     # Returns values for selected column"
   ]
  },
  {
   "cell_type": "code",
   "execution_count": 22,
   "id": "6483b176-a74a-4a43-ab08-0a2cf0265456",
   "metadata": {},
   "outputs": [
    {
     "data": {
      "text/html": [
       "<div>\n",
       "<style scoped>\n",
       "    .dataframe tbody tr th:only-of-type {\n",
       "        vertical-align: middle;\n",
       "    }\n",
       "\n",
       "    .dataframe tbody tr th {\n",
       "        vertical-align: top;\n",
       "    }\n",
       "\n",
       "    .dataframe thead th {\n",
       "        text-align: right;\n",
       "    }\n",
       "</style>\n",
       "<table border=\"1\" class=\"dataframe\">\n",
       "  <thead>\n",
       "    <tr style=\"text-align: right;\">\n",
       "      <th></th>\n",
       "      <th>last_name</th>\n",
       "      <th>email</th>\n",
       "      <th>salary</th>\n",
       "    </tr>\n",
       "  </thead>\n",
       "  <tbody>\n",
       "    <tr>\n",
       "      <th>0</th>\n",
       "      <td>Thomas</td>\n",
       "      <td>fthomas94@gmail.com</td>\n",
       "      <td>117000</td>\n",
       "    </tr>\n",
       "    <tr>\n",
       "      <th>1</th>\n",
       "      <td>Hansen</td>\n",
       "      <td>chansen28@gmail.com</td>\n",
       "      <td>101000</td>\n",
       "    </tr>\n",
       "    <tr>\n",
       "      <th>2</th>\n",
       "      <td>Hansen</td>\n",
       "      <td>ahansen75@gmail.com</td>\n",
       "      <td>92000</td>\n",
       "    </tr>\n",
       "    <tr>\n",
       "      <th>3</th>\n",
       "      <td>Phillips</td>\n",
       "      <td>ephillips75@gmail.com</td>\n",
       "      <td>51000</td>\n",
       "    </tr>\n",
       "    <tr>\n",
       "      <th>4</th>\n",
       "      <td>Kramer</td>\n",
       "      <td>bkramer29@gmail.com</td>\n",
       "      <td>71000</td>\n",
       "    </tr>\n",
       "    <tr>\n",
       "      <th>5</th>\n",
       "      <td>Roberts</td>\n",
       "      <td>sroberts46@gmail.com</td>\n",
       "      <td>57000</td>\n",
       "    </tr>\n",
       "    <tr>\n",
       "      <th>6</th>\n",
       "      <td>Fraser</td>\n",
       "      <td>gfraser84@gmail.com</td>\n",
       "      <td>74000</td>\n",
       "    </tr>\n",
       "    <tr>\n",
       "      <th>7</th>\n",
       "      <td>Flick</td>\n",
       "      <td>aflick69@gmail.com</td>\n",
       "      <td>72000</td>\n",
       "    </tr>\n",
       "    <tr>\n",
       "      <th>8</th>\n",
       "      <td>Williams</td>\n",
       "      <td>ewilliams55@gmail.com</td>\n",
       "      <td>65000</td>\n",
       "    </tr>\n",
       "    <tr>\n",
       "      <th>9</th>\n",
       "      <td>Hank</td>\n",
       "      <td>dhank42@gmail.com</td>\n",
       "      <td>107000</td>\n",
       "    </tr>\n",
       "    <tr>\n",
       "      <th>10</th>\n",
       "      <td>Kimmel</td>\n",
       "      <td>fkimmel54@gmail.com</td>\n",
       "      <td>82000</td>\n",
       "    </tr>\n",
       "    <tr>\n",
       "      <th>11</th>\n",
       "      <td>Williams</td>\n",
       "      <td>swilliams29@gmail.com</td>\n",
       "      <td>71000</td>\n",
       "    </tr>\n",
       "    <tr>\n",
       "      <th>12</th>\n",
       "      <td>Eriksen</td>\n",
       "      <td>deriksen79@gmail.com</td>\n",
       "      <td>66000</td>\n",
       "    </tr>\n",
       "    <tr>\n",
       "      <th>13</th>\n",
       "      <td>Samir</td>\n",
       "      <td>osamir10@gmail.com</td>\n",
       "      <td>91000</td>\n",
       "    </tr>\n",
       "    <tr>\n",
       "      <th>14</th>\n",
       "      <td>Patten</td>\n",
       "      <td>spatten89@gmail.com</td>\n",
       "      <td>73000</td>\n",
       "    </tr>\n",
       "    <tr>\n",
       "      <th>15</th>\n",
       "      <td>Hassan</td>\n",
       "      <td>ahassan25@gmail.com</td>\n",
       "      <td>59000</td>\n",
       "    </tr>\n",
       "    <tr>\n",
       "      <th>16</th>\n",
       "      <td>Albert</td>\n",
       "      <td>xalbert12@gmail.com</td>\n",
       "      <td>66000</td>\n",
       "    </tr>\n",
       "    <tr>\n",
       "      <th>17</th>\n",
       "      <td>Patten</td>\n",
       "      <td>ppatten96@gmail.com</td>\n",
       "      <td>72000</td>\n",
       "    </tr>\n",
       "    <tr>\n",
       "      <th>18</th>\n",
       "      <td>Gerard</td>\n",
       "      <td>igerard99@gmail.com</td>\n",
       "      <td>85000</td>\n",
       "    </tr>\n",
       "    <tr>\n",
       "      <th>19</th>\n",
       "      <td>Towns</td>\n",
       "      <td>jtowns14@gmail.com</td>\n",
       "      <td>95000</td>\n",
       "    </tr>\n",
       "    <tr>\n",
       "      <th>20</th>\n",
       "      <td>Williamson</td>\n",
       "      <td>swilliamson38@gmail.com</td>\n",
       "      <td>61000</td>\n",
       "    </tr>\n",
       "    <tr>\n",
       "      <th>21</th>\n",
       "      <td>Hank</td>\n",
       "      <td>ahank60@gmail.com</td>\n",
       "      <td>49000</td>\n",
       "    </tr>\n",
       "    <tr>\n",
       "      <th>22</th>\n",
       "      <td>Richards</td>\n",
       "      <td>xrichards36@gmail.com</td>\n",
       "      <td>46000</td>\n",
       "    </tr>\n",
       "    <tr>\n",
       "      <th>23</th>\n",
       "      <td>Bulsic</td>\n",
       "      <td>nbulsic77@gmail.com</td>\n",
       "      <td>55000</td>\n",
       "    </tr>\n",
       "    <tr>\n",
       "      <th>24</th>\n",
       "      <td>Smith</td>\n",
       "      <td>msmith94@gmail.com</td>\n",
       "      <td>65000</td>\n",
       "    </tr>\n",
       "    <tr>\n",
       "      <th>25</th>\n",
       "      <td>Terry</td>\n",
       "      <td>eterry45@gmail.com</td>\n",
       "      <td>71000</td>\n",
       "    </tr>\n",
       "    <tr>\n",
       "      <th>26</th>\n",
       "      <td>Ronson</td>\n",
       "      <td>aronson59@gmail.com</td>\n",
       "      <td>40000</td>\n",
       "    </tr>\n",
       "    <tr>\n",
       "      <th>27</th>\n",
       "      <td>Atkinson</td>\n",
       "      <td>catkinson68@gmail.com</td>\n",
       "      <td>105000</td>\n",
       "    </tr>\n",
       "    <tr>\n",
       "      <th>28</th>\n",
       "      <td>Williamson</td>\n",
       "      <td>wwilliamson93@gmail.com</td>\n",
       "      <td>92000</td>\n",
       "    </tr>\n",
       "    <tr>\n",
       "      <th>29</th>\n",
       "      <td>Kimmel</td>\n",
       "      <td>skimmel57@gmail.com</td>\n",
       "      <td>120000</td>\n",
       "    </tr>\n",
       "    <tr>\n",
       "      <th>30</th>\n",
       "      <td>Perreira</td>\n",
       "      <td>fperreira94@gmail.com</td>\n",
       "      <td>41000</td>\n",
       "    </tr>\n",
       "    <tr>\n",
       "      <th>31</th>\n",
       "      <td>Manning</td>\n",
       "      <td>mmanning77@gmail.com</td>\n",
       "      <td>81000</td>\n",
       "    </tr>\n",
       "    <tr>\n",
       "      <th>32</th>\n",
       "      <td>Hamilton</td>\n",
       "      <td>ehamilton86@gmail.com</td>\n",
       "      <td>82000</td>\n",
       "    </tr>\n",
       "    <tr>\n",
       "      <th>33</th>\n",
       "      <td>Magnusson</td>\n",
       "      <td>nmagnusson54@gmail.com</td>\n",
       "      <td>108000</td>\n",
       "    </tr>\n",
       "    <tr>\n",
       "      <th>34</th>\n",
       "      <td>Robinson</td>\n",
       "      <td>probinson48@gmail.com</td>\n",
       "      <td>109000</td>\n",
       "    </tr>\n",
       "    <tr>\n",
       "      <th>35</th>\n",
       "      <td>Tanner</td>\n",
       "      <td>ptanner12@gmail.com</td>\n",
       "      <td>68000</td>\n",
       "    </tr>\n",
       "    <tr>\n",
       "      <th>36</th>\n",
       "      <td>Patten</td>\n",
       "      <td>jpatten95@gmail.com</td>\n",
       "      <td>73000</td>\n",
       "    </tr>\n",
       "    <tr>\n",
       "      <th>37</th>\n",
       "      <td>Terry</td>\n",
       "      <td>jterry59@gmail.com</td>\n",
       "      <td>59000</td>\n",
       "    </tr>\n",
       "    <tr>\n",
       "      <th>38</th>\n",
       "      <td>Williams</td>\n",
       "      <td>cwilliams60@gmail.com</td>\n",
       "      <td>99000</td>\n",
       "    </tr>\n",
       "    <tr>\n",
       "      <th>39</th>\n",
       "      <td>Eriksen</td>\n",
       "      <td>meriksen65@gmail.com</td>\n",
       "      <td>119000</td>\n",
       "    </tr>\n",
       "    <tr>\n",
       "      <th>40</th>\n",
       "      <td>Fernandez</td>\n",
       "      <td>afernandez67@gmail.com</td>\n",
       "      <td>100000</td>\n",
       "    </tr>\n",
       "    <tr>\n",
       "      <th>41</th>\n",
       "      <td>Hvar</td>\n",
       "      <td>ahvar56@gmail.com</td>\n",
       "      <td>40000</td>\n",
       "    </tr>\n",
       "    <tr>\n",
       "      <th>42</th>\n",
       "      <td>Woodburn</td>\n",
       "      <td>rwoodburn12@gmail.com</td>\n",
       "      <td>42000</td>\n",
       "    </tr>\n",
       "    <tr>\n",
       "      <th>43</th>\n",
       "      <td>Stevenson</td>\n",
       "      <td>jstevenson63@gmail.com</td>\n",
       "      <td>111000</td>\n",
       "    </tr>\n",
       "    <tr>\n",
       "      <th>44</th>\n",
       "      <td>Mendez</td>\n",
       "      <td>qmendez82@gmail.com</td>\n",
       "      <td>113000</td>\n",
       "    </tr>\n",
       "    <tr>\n",
       "      <th>45</th>\n",
       "      <td>Aygun</td>\n",
       "      <td>caygun41@gmail.com</td>\n",
       "      <td>82000</td>\n",
       "    </tr>\n",
       "    <tr>\n",
       "      <th>46</th>\n",
       "      <td>Flick</td>\n",
       "      <td>aflick49@gmail.com</td>\n",
       "      <td>62000</td>\n",
       "    </tr>\n",
       "    <tr>\n",
       "      <th>47</th>\n",
       "      <td>Morten</td>\n",
       "      <td>fmorten39@gmail.com</td>\n",
       "      <td>54000</td>\n",
       "    </tr>\n",
       "    <tr>\n",
       "      <th>48</th>\n",
       "      <td>Williams</td>\n",
       "      <td>bwilliams16@gmail.com</td>\n",
       "      <td>110000</td>\n",
       "    </tr>\n",
       "    <tr>\n",
       "      <th>49</th>\n",
       "      <td>Eriksen</td>\n",
       "      <td>teriksen52@gmail.com</td>\n",
       "      <td>50000</td>\n",
       "    </tr>\n",
       "    <tr>\n",
       "      <th>50</th>\n",
       "      <td>Magnusson</td>\n",
       "      <td>vmagnusson39@gmail.com</td>\n",
       "      <td>75000</td>\n",
       "    </tr>\n",
       "    <tr>\n",
       "      <th>51</th>\n",
       "      <td>Lehmann</td>\n",
       "      <td>mlehmann74@gmail.com</td>\n",
       "      <td>41000</td>\n",
       "    </tr>\n",
       "    <tr>\n",
       "      <th>52</th>\n",
       "      <td>Stevenson</td>\n",
       "      <td>rstevenson80@gmail.com</td>\n",
       "      <td>112000</td>\n",
       "    </tr>\n",
       "    <tr>\n",
       "      <th>53</th>\n",
       "      <td>Gerard</td>\n",
       "      <td>ogerard55@gmail.com</td>\n",
       "      <td>69000</td>\n",
       "    </tr>\n",
       "  </tbody>\n",
       "</table>\n",
       "</div>"
      ],
      "text/plain": [
       "     last_name                    email  salary\n",
       "0       Thomas      fthomas94@gmail.com  117000\n",
       "1       Hansen      chansen28@gmail.com  101000\n",
       "2       Hansen      ahansen75@gmail.com   92000\n",
       "3     Phillips    ephillips75@gmail.com   51000\n",
       "4       Kramer      bkramer29@gmail.com   71000\n",
       "5      Roberts     sroberts46@gmail.com   57000\n",
       "6       Fraser      gfraser84@gmail.com   74000\n",
       "7        Flick       aflick69@gmail.com   72000\n",
       "8     Williams    ewilliams55@gmail.com   65000\n",
       "9         Hank        dhank42@gmail.com  107000\n",
       "10      Kimmel      fkimmel54@gmail.com   82000\n",
       "11    Williams    swilliams29@gmail.com   71000\n",
       "12     Eriksen     deriksen79@gmail.com   66000\n",
       "13       Samir       osamir10@gmail.com   91000\n",
       "14      Patten      spatten89@gmail.com   73000\n",
       "15      Hassan      ahassan25@gmail.com   59000\n",
       "16      Albert      xalbert12@gmail.com   66000\n",
       "17      Patten      ppatten96@gmail.com   72000\n",
       "18      Gerard      igerard99@gmail.com   85000\n",
       "19       Towns       jtowns14@gmail.com   95000\n",
       "20  Williamson  swilliamson38@gmail.com   61000\n",
       "21        Hank        ahank60@gmail.com   49000\n",
       "22    Richards    xrichards36@gmail.com   46000\n",
       "23      Bulsic      nbulsic77@gmail.com   55000\n",
       "24       Smith       msmith94@gmail.com   65000\n",
       "25       Terry       eterry45@gmail.com   71000\n",
       "26      Ronson      aronson59@gmail.com   40000\n",
       "27    Atkinson    catkinson68@gmail.com  105000\n",
       "28  Williamson  wwilliamson93@gmail.com   92000\n",
       "29      Kimmel      skimmel57@gmail.com  120000\n",
       "30    Perreira    fperreira94@gmail.com   41000\n",
       "31     Manning     mmanning77@gmail.com   81000\n",
       "32    Hamilton    ehamilton86@gmail.com   82000\n",
       "33   Magnusson   nmagnusson54@gmail.com  108000\n",
       "34    Robinson    probinson48@gmail.com  109000\n",
       "35      Tanner      ptanner12@gmail.com   68000\n",
       "36      Patten      jpatten95@gmail.com   73000\n",
       "37       Terry       jterry59@gmail.com   59000\n",
       "38    Williams    cwilliams60@gmail.com   99000\n",
       "39     Eriksen     meriksen65@gmail.com  119000\n",
       "40   Fernandez   afernandez67@gmail.com  100000\n",
       "41        Hvar        ahvar56@gmail.com   40000\n",
       "42    Woodburn    rwoodburn12@gmail.com   42000\n",
       "43   Stevenson   jstevenson63@gmail.com  111000\n",
       "44      Mendez      qmendez82@gmail.com  113000\n",
       "45       Aygun       caygun41@gmail.com   82000\n",
       "46       Flick       aflick49@gmail.com   62000\n",
       "47      Morten      fmorten39@gmail.com   54000\n",
       "48    Williams    bwilliams16@gmail.com  110000\n",
       "49     Eriksen     teriksen52@gmail.com   50000\n",
       "50   Magnusson   vmagnusson39@gmail.com   75000\n",
       "51     Lehmann     mlehmann74@gmail.com   41000\n",
       "52   Stevenson   rstevenson80@gmail.com  112000\n",
       "53      Gerard      ogerard55@gmail.com   69000"
      ]
     },
     "execution_count": 22,
     "metadata": {},
     "output_type": "execute_result"
    }
   ],
   "source": [
    "df[['last_name', 'email', 'salary']]\n",
    "\n",
    "# Returns a DataFrame from selected columns. Note that when accessing multiple columns\n",
    "# you have to pass column names as a list."
   ]
  },
  {
   "cell_type": "markdown",
   "id": "7656e6e9-3734-4d32-b4d3-51079bbce7c5",
   "metadata": {},
   "source": [
    "> *Indexing allows you to run some of the general methods discussed earlier on the specified column(s) you've indexed.*"
   ]
  },
  {
   "cell_type": "code",
   "execution_count": 23,
   "id": "1d19d0dd-b21c-4289-8cb5-66afab7d6c06",
   "metadata": {},
   "outputs": [
    {
     "data": {
      "text/plain": [
       "45"
      ]
     },
     "execution_count": 23,
     "metadata": {},
     "output_type": "execute_result"
    }
   ],
   "source": [
    "df['age'].max()     # Returns maximum value for selected column"
   ]
  },
  {
   "cell_type": "code",
   "execution_count": 24,
   "id": "b894de1c-e9af-4e19-8b8e-f13d16bafb05",
   "metadata": {
    "tags": []
   },
   "outputs": [
    {
     "data": {
      "text/plain": [
       "40000"
      ]
     },
     "execution_count": 24,
     "metadata": {},
     "output_type": "execute_result"
    }
   ],
   "source": [
    "df['salary'].min()     # Returns minimum value for selected column"
   ]
  },
  {
   "cell_type": "code",
   "execution_count": 25,
   "id": "b0adb3d2-73b1-4e52-8fec-fb4c16ca1d2f",
   "metadata": {},
   "outputs": [
    {
     "data": {
      "text/plain": [
       "array(['Scotland', 'UK', 'Canada', 'Australia', 'USA', 'New Zealand'],\n",
       "      dtype=object)"
      ]
     },
     "execution_count": 25,
     "metadata": {},
     "output_type": "execute_result"
    }
   ],
   "source": [
    "df['country'].unique()     # Returns unique values for selected column"
   ]
  },
  {
   "cell_type": "code",
   "execution_count": 26,
   "id": "1b0cd477-edba-42e3-b83f-7b6de14bf8a4",
   "metadata": {},
   "outputs": [
    {
     "data": {
      "text/plain": [
       "R                        12\n",
       "Java                     11\n",
       "Ruby                      9\n",
       "PHP                       6\n",
       "Python                    6\n",
       "Dart                      6\n",
       "html; CSS; Javascript     4\n",
       "Name: languages, dtype: int64"
      ]
     },
     "execution_count": 26,
     "metadata": {},
     "output_type": "execute_result"
    }
   ],
   "source": [
    "df['languages'].value_counts()\n",
    "\n",
    "# Returns Series with count of unique values in specified column"
   ]
  },
  {
   "cell_type": "markdown",
   "id": "8919cf93-825e-463c-8df2-a75c8551b71f",
   "metadata": {},
   "source": [
    "<br>\n",
    "\n",
    "#### 2. Indexing Rows"
   ]
  },
  {
   "cell_type": "markdown",
   "id": "e01518ae-d6c0-412e-b76a-46b7d317282f",
   "metadata": {},
   "source": [
    "> To access values for a specific row, we use **.iloc** and **.loc** methods.\n",
    "<br>\n",
    "<br>\n",
    "**.iloc** and **.loc** are similar methods. The only difference is that **.iloc** takes *integers* as arguments, while **.loc** can take *integers or strings* as arguments"
   ]
  },
  {
   "cell_type": "code",
   "execution_count": 27,
   "id": "c43cb827-073b-443c-a43d-7ad26b26d54c",
   "metadata": {},
   "outputs": [
    {
     "data": {
      "text/plain": [
       "first_name                   Conrad\n",
       "last_name                  Williams\n",
       "email         cwilliams60@gmail.com\n",
       "age                              36\n",
       "country                          UK\n",
       "salary                        99000\n",
       "languages     html; CSS; Javascript\n",
       "Name: 38, dtype: object"
      ]
     },
     "execution_count": 27,
     "metadata": {},
     "output_type": "execute_result"
    }
   ],
   "source": [
    "df.iloc[38]     # Returns values for selected row index"
   ]
  },
  {
   "cell_type": "code",
   "execution_count": 28,
   "id": "7e94d3c8-66ea-4739-b90e-053e37560b62",
   "metadata": {},
   "outputs": [
    {
     "data": {
      "text/plain": [
       "'Thomas'"
      ]
     },
     "execution_count": 28,
     "metadata": {},
     "output_type": "execute_result"
    }
   ],
   "source": [
    "df.iloc[0, 1]     # Returns value for selected row & specified column "
   ]
  },
  {
   "cell_type": "code",
   "execution_count": 29,
   "id": "17795470-374c-4a21-89d4-7f255bdd755e",
   "metadata": {},
   "outputs": [
    {
     "data": {
      "text/html": [
       "<div>\n",
       "<style scoped>\n",
       "    .dataframe tbody tr th:only-of-type {\n",
       "        vertical-align: middle;\n",
       "    }\n",
       "\n",
       "    .dataframe tbody tr th {\n",
       "        vertical-align: top;\n",
       "    }\n",
       "\n",
       "    .dataframe thead th {\n",
       "        text-align: right;\n",
       "    }\n",
       "</style>\n",
       "<table border=\"1\" class=\"dataframe\">\n",
       "  <thead>\n",
       "    <tr style=\"text-align: right;\">\n",
       "      <th></th>\n",
       "      <th>first_name</th>\n",
       "      <th>last_name</th>\n",
       "      <th>email</th>\n",
       "      <th>age</th>\n",
       "      <th>country</th>\n",
       "      <th>salary</th>\n",
       "      <th>languages</th>\n",
       "    </tr>\n",
       "  </thead>\n",
       "  <tbody>\n",
       "    <tr>\n",
       "      <th>0</th>\n",
       "      <td>Frank</td>\n",
       "      <td>Thomas</td>\n",
       "      <td>fthomas94@gmail.com</td>\n",
       "      <td>34</td>\n",
       "      <td>Scotland</td>\n",
       "      <td>117000</td>\n",
       "      <td>R</td>\n",
       "    </tr>\n",
       "    <tr>\n",
       "      <th>23</th>\n",
       "      <td>Neil</td>\n",
       "      <td>Bulsic</td>\n",
       "      <td>nbulsic77@gmail.com</td>\n",
       "      <td>31</td>\n",
       "      <td>UK</td>\n",
       "      <td>55000</td>\n",
       "      <td>Java</td>\n",
       "    </tr>\n",
       "  </tbody>\n",
       "</table>\n",
       "</div>"
      ],
      "text/plain": [
       "   first_name last_name                email  age   country  salary languages\n",
       "0       Frank    Thomas  fthomas94@gmail.com   34  Scotland  117000         R\n",
       "23       Neil    Bulsic  nbulsic77@gmail.com   31        UK   55000      Java"
      ]
     },
     "execution_count": 29,
     "metadata": {},
     "output_type": "execute_result"
    }
   ],
   "source": [
    "df.iloc[[0, 23]]     # Returns DataFrame with values for selected rows"
   ]
  },
  {
   "cell_type": "code",
   "execution_count": 30,
   "id": "0fa83635-947d-4dc5-bc03-563da2549a6f",
   "metadata": {},
   "outputs": [
    {
     "data": {
      "text/plain": [
       "0       fthomas94@gmail.com\n",
       "11    swilliams29@gmail.com\n",
       "Name: email, dtype: object"
      ]
     },
     "execution_count": 30,
     "metadata": {},
     "output_type": "execute_result"
    }
   ],
   "source": [
    "df.iloc[[0, 11], 2]     # Returns values for selected rows in a specific column"
   ]
  },
  {
   "cell_type": "code",
   "execution_count": 31,
   "id": "024114f1-ce98-493f-b6f4-6cd89b0fb1da",
   "metadata": {},
   "outputs": [
    {
     "data": {
      "text/html": [
       "<div>\n",
       "<style scoped>\n",
       "    .dataframe tbody tr th:only-of-type {\n",
       "        vertical-align: middle;\n",
       "    }\n",
       "\n",
       "    .dataframe tbody tr th {\n",
       "        vertical-align: top;\n",
       "    }\n",
       "\n",
       "    .dataframe thead th {\n",
       "        text-align: right;\n",
       "    }\n",
       "</style>\n",
       "<table border=\"1\" class=\"dataframe\">\n",
       "  <thead>\n",
       "    <tr style=\"text-align: right;\">\n",
       "      <th></th>\n",
       "      <th>first_name</th>\n",
       "      <th>last_name</th>\n",
       "      <th>email</th>\n",
       "      <th>age</th>\n",
       "      <th>country</th>\n",
       "      <th>salary</th>\n",
       "      <th>languages</th>\n",
       "    </tr>\n",
       "  </thead>\n",
       "  <tbody>\n",
       "    <tr>\n",
       "      <th>0</th>\n",
       "      <td>Frank</td>\n",
       "      <td>Thomas</td>\n",
       "      <td>fthomas94@gmail.com</td>\n",
       "      <td>34</td>\n",
       "      <td>Scotland</td>\n",
       "      <td>117000</td>\n",
       "      <td>R</td>\n",
       "    </tr>\n",
       "    <tr>\n",
       "      <th>32</th>\n",
       "      <td>Edwin</td>\n",
       "      <td>Hamilton</td>\n",
       "      <td>ehamilton86@gmail.com</td>\n",
       "      <td>25</td>\n",
       "      <td>New Zealand</td>\n",
       "      <td>82000</td>\n",
       "      <td>Python</td>\n",
       "    </tr>\n",
       "  </tbody>\n",
       "</table>\n",
       "</div>"
      ],
      "text/plain": [
       "   first_name last_name                  email  age      country  salary  \\\n",
       "0       Frank    Thomas    fthomas94@gmail.com   34     Scotland  117000   \n",
       "32      Edwin  Hamilton  ehamilton86@gmail.com   25  New Zealand   82000   \n",
       "\n",
       "   languages  \n",
       "0          R  \n",
       "32    Python  "
      ]
     },
     "execution_count": 31,
     "metadata": {},
     "output_type": "execute_result"
    }
   ],
   "source": [
    "df.loc[[0, 32]]     # Returns DataFrame values for selected rows"
   ]
  },
  {
   "cell_type": "code",
   "execution_count": 32,
   "id": "2a20fc57-28dc-4bf6-83de-1eb0549fbe85",
   "metadata": {},
   "outputs": [
    {
     "data": {
      "text/plain": [
       "'Thomas'"
      ]
     },
     "execution_count": 32,
     "metadata": {},
     "output_type": "execute_result"
    }
   ],
   "source": [
    "df.loc[0, 'last_name']     # Returns value for selected row & specified column"
   ]
  },
  {
   "cell_type": "code",
   "execution_count": 33,
   "id": "ca8ac62f-bb35-439c-b636-f989c6ecd8e1",
   "metadata": {},
   "outputs": [
    {
     "data": {
      "text/html": [
       "<div>\n",
       "<style scoped>\n",
       "    .dataframe tbody tr th:only-of-type {\n",
       "        vertical-align: middle;\n",
       "    }\n",
       "\n",
       "    .dataframe tbody tr th {\n",
       "        vertical-align: top;\n",
       "    }\n",
       "\n",
       "    .dataframe thead th {\n",
       "        text-align: right;\n",
       "    }\n",
       "</style>\n",
       "<table border=\"1\" class=\"dataframe\">\n",
       "  <thead>\n",
       "    <tr style=\"text-align: right;\">\n",
       "      <th></th>\n",
       "      <th>email</th>\n",
       "      <th>last_name</th>\n",
       "    </tr>\n",
       "  </thead>\n",
       "  <tbody>\n",
       "    <tr>\n",
       "      <th>0</th>\n",
       "      <td>fthomas94@gmail.com</td>\n",
       "      <td>Thomas</td>\n",
       "    </tr>\n",
       "    <tr>\n",
       "      <th>1</th>\n",
       "      <td>chansen28@gmail.com</td>\n",
       "      <td>Hansen</td>\n",
       "    </tr>\n",
       "    <tr>\n",
       "      <th>2</th>\n",
       "      <td>ahansen75@gmail.com</td>\n",
       "      <td>Hansen</td>\n",
       "    </tr>\n",
       "    <tr>\n",
       "      <th>3</th>\n",
       "      <td>ephillips75@gmail.com</td>\n",
       "      <td>Phillips</td>\n",
       "    </tr>\n",
       "    <tr>\n",
       "      <th>4</th>\n",
       "      <td>bkramer29@gmail.com</td>\n",
       "      <td>Kramer</td>\n",
       "    </tr>\n",
       "    <tr>\n",
       "      <th>5</th>\n",
       "      <td>sroberts46@gmail.com</td>\n",
       "      <td>Roberts</td>\n",
       "    </tr>\n",
       "    <tr>\n",
       "      <th>6</th>\n",
       "      <td>gfraser84@gmail.com</td>\n",
       "      <td>Fraser</td>\n",
       "    </tr>\n",
       "    <tr>\n",
       "      <th>7</th>\n",
       "      <td>aflick69@gmail.com</td>\n",
       "      <td>Flick</td>\n",
       "    </tr>\n",
       "    <tr>\n",
       "      <th>8</th>\n",
       "      <td>ewilliams55@gmail.com</td>\n",
       "      <td>Williams</td>\n",
       "    </tr>\n",
       "  </tbody>\n",
       "</table>\n",
       "</div>"
      ],
      "text/plain": [
       "                   email last_name\n",
       "0    fthomas94@gmail.com    Thomas\n",
       "1    chansen28@gmail.com    Hansen\n",
       "2    ahansen75@gmail.com    Hansen\n",
       "3  ephillips75@gmail.com  Phillips\n",
       "4    bkramer29@gmail.com    Kramer\n",
       "5   sroberts46@gmail.com   Roberts\n",
       "6    gfraser84@gmail.com    Fraser\n",
       "7     aflick69@gmail.com     Flick\n",
       "8  ewilliams55@gmail.com  Williams"
      ]
     },
     "execution_count": 33,
     "metadata": {},
     "output_type": "execute_result"
    }
   ],
   "source": [
    "df.loc[0:8, ['email', 'last_name']]\n",
    "\n",
    "# Returns DataFrame with values for index range & specified columns"
   ]
  },
  {
   "cell_type": "markdown",
   "id": "37e54e20-237a-4ccc-a057-3e46d547ef27",
   "metadata": {},
   "source": [
    "> Those are the most common methods for indexing rows and columns in **Pandas**."
   ]
  },
  {
   "cell_type": "markdown",
   "id": "9c61cb6c-f7e5-4ded-ad29-1264e14495af",
   "metadata": {
    "tags": []
   },
   "source": [
    "<a id='method_add'></a>\n",
    "### Adding/Removing Rows and Columns"
   ]
  },
  {
   "cell_type": "markdown",
   "id": "9e881d0f-a51b-4468-b6d9-ef93d21b3c83",
   "metadata": {
    "tags": []
   },
   "source": [
    "#### 1. Methods for Adding/Removing Rows"
   ]
  },
  {
   "cell_type": "markdown",
   "id": "ac6e19bf-7226-4b35-a314-7369246129a8",
   "metadata": {},
   "source": [
    ">If you wish to add a row to a DataFrame, you can use the **df.append( )** method"
   ]
  },
  {
   "cell_type": "code",
   "execution_count": 34,
   "id": "6b811548-1fd9-4899-8bcd-670d04a778f0",
   "metadata": {},
   "outputs": [],
   "source": [
    "df = df.append({\n",
    "        'first_name': 'Karim',\n",
    "        'last_name': 'Carlson',\n",
    "\n",
    "}, ignore_index=True)\n",
    "\n",
    "# You can append values to a DataFrame by passing a dictionary where dictionary keys \n",
    "# and values correspond to column names and the values you want to append to the DataFrame.\n",
    "# Assign 'df.append()' method to 'df' variable.\n",
    "\n",
    "# Remember to pass 'ignore_index=True' or else you will get an Error."
   ]
  },
  {
   "cell_type": "code",
   "execution_count": 35,
   "id": "9f49763a-3d79-40e3-b556-a67a3377102c",
   "metadata": {},
   "outputs": [
    {
     "data": {
      "text/html": [
       "<div>\n",
       "<style scoped>\n",
       "    .dataframe tbody tr th:only-of-type {\n",
       "        vertical-align: middle;\n",
       "    }\n",
       "\n",
       "    .dataframe tbody tr th {\n",
       "        vertical-align: top;\n",
       "    }\n",
       "\n",
       "    .dataframe thead th {\n",
       "        text-align: right;\n",
       "    }\n",
       "</style>\n",
       "<table border=\"1\" class=\"dataframe\">\n",
       "  <thead>\n",
       "    <tr style=\"text-align: right;\">\n",
       "      <th></th>\n",
       "      <th>first_name</th>\n",
       "      <th>last_name</th>\n",
       "      <th>email</th>\n",
       "      <th>age</th>\n",
       "      <th>country</th>\n",
       "      <th>salary</th>\n",
       "      <th>languages</th>\n",
       "    </tr>\n",
       "  </thead>\n",
       "  <tbody>\n",
       "    <tr>\n",
       "      <th>50</th>\n",
       "      <td>Victor</td>\n",
       "      <td>Magnusson</td>\n",
       "      <td>vmagnusson39@gmail.com</td>\n",
       "      <td>32.0</td>\n",
       "      <td>Canada</td>\n",
       "      <td>75000.0</td>\n",
       "      <td>Java</td>\n",
       "    </tr>\n",
       "    <tr>\n",
       "      <th>51</th>\n",
       "      <td>Mark</td>\n",
       "      <td>Lehmann</td>\n",
       "      <td>mlehmann74@gmail.com</td>\n",
       "      <td>34.0</td>\n",
       "      <td>Scotland</td>\n",
       "      <td>41000.0</td>\n",
       "      <td>R</td>\n",
       "    </tr>\n",
       "    <tr>\n",
       "      <th>52</th>\n",
       "      <td>Ron</td>\n",
       "      <td>Stevenson</td>\n",
       "      <td>rstevenson80@gmail.com</td>\n",
       "      <td>40.0</td>\n",
       "      <td>Australia</td>\n",
       "      <td>112000.0</td>\n",
       "      <td>Python</td>\n",
       "    </tr>\n",
       "    <tr>\n",
       "      <th>53</th>\n",
       "      <td>Oswald</td>\n",
       "      <td>Gerard</td>\n",
       "      <td>ogerard55@gmail.com</td>\n",
       "      <td>25.0</td>\n",
       "      <td>UK</td>\n",
       "      <td>69000.0</td>\n",
       "      <td>Ruby</td>\n",
       "    </tr>\n",
       "    <tr>\n",
       "      <th>54</th>\n",
       "      <td>Karim</td>\n",
       "      <td>Carlson</td>\n",
       "      <td>NaN</td>\n",
       "      <td>NaN</td>\n",
       "      <td>NaN</td>\n",
       "      <td>NaN</td>\n",
       "      <td>NaN</td>\n",
       "    </tr>\n",
       "  </tbody>\n",
       "</table>\n",
       "</div>"
      ],
      "text/plain": [
       "   first_name  last_name                   email   age    country    salary  \\\n",
       "50     Victor  Magnusson  vmagnusson39@gmail.com  32.0     Canada   75000.0   \n",
       "51       Mark    Lehmann    mlehmann74@gmail.com  34.0   Scotland   41000.0   \n",
       "52        Ron  Stevenson  rstevenson80@gmail.com  40.0  Australia  112000.0   \n",
       "53     Oswald     Gerard     ogerard55@gmail.com  25.0         UK   69000.0   \n",
       "54      Karim    Carlson                     NaN   NaN        NaN       NaN   \n",
       "\n",
       "   languages  \n",
       "50      Java  \n",
       "51         R  \n",
       "52    Python  \n",
       "53      Ruby  \n",
       "54       NaN  "
      ]
     },
     "execution_count": 35,
     "metadata": {},
     "output_type": "execute_result"
    }
   ],
   "source": [
    "df.tail()"
   ]
  },
  {
   "cell_type": "markdown",
   "id": "d5cfcda6-a5f1-4ffe-b3b7-41f589899334",
   "metadata": {},
   "source": [
    "> Now we can confirm that the DataFrame has been updated. We can see that the other columns show 'NaN' values, because we did not pass values for those columns. "
   ]
  },
  {
   "cell_type": "markdown",
   "id": "acbd6b12-e556-437e-bd87-f9b3edae131a",
   "metadata": {},
   "source": [
    "To remove the row that has been created we will use **df.drop( )** method."
   ]
  },
  {
   "cell_type": "code",
   "execution_count": 36,
   "id": "edc3f59a-2181-4b36-ace5-dd6457a8a651",
   "metadata": {
    "tags": []
   },
   "outputs": [],
   "source": [
    "df.drop(49, inplace=True)"
   ]
  },
  {
   "cell_type": "markdown",
   "id": "700e3c5e-8746-4201-a6b0-7e139351ccd1",
   "metadata": {},
   "source": [
    "Now we check to see if the row has actually been removed"
   ]
  },
  {
   "cell_type": "code",
   "execution_count": 40,
   "id": "e9c6af6b-a2ff-4e35-ab51-1988e74b2c16",
   "metadata": {},
   "outputs": [
    {
     "data": {
      "text/html": [
       "<div>\n",
       "<style scoped>\n",
       "    .dataframe tbody tr th:only-of-type {\n",
       "        vertical-align: middle;\n",
       "    }\n",
       "\n",
       "    .dataframe tbody tr th {\n",
       "        vertical-align: top;\n",
       "    }\n",
       "\n",
       "    .dataframe thead th {\n",
       "        text-align: right;\n",
       "    }\n",
       "</style>\n",
       "<table border=\"1\" class=\"dataframe\">\n",
       "  <thead>\n",
       "    <tr style=\"text-align: right;\">\n",
       "      <th></th>\n",
       "      <th>first_name</th>\n",
       "      <th>last_name</th>\n",
       "      <th>email</th>\n",
       "      <th>age</th>\n",
       "      <th>country</th>\n",
       "      <th>salary</th>\n",
       "      <th>languages</th>\n",
       "    </tr>\n",
       "  </thead>\n",
       "  <tbody>\n",
       "    <tr>\n",
       "      <th>50</th>\n",
       "      <td>Victor</td>\n",
       "      <td>Magnusson</td>\n",
       "      <td>vmagnusson39@gmail.com</td>\n",
       "      <td>32.0</td>\n",
       "      <td>Canada</td>\n",
       "      <td>75000.0</td>\n",
       "      <td>Java</td>\n",
       "    </tr>\n",
       "    <tr>\n",
       "      <th>51</th>\n",
       "      <td>Mark</td>\n",
       "      <td>Lehmann</td>\n",
       "      <td>mlehmann74@gmail.com</td>\n",
       "      <td>34.0</td>\n",
       "      <td>Scotland</td>\n",
       "      <td>41000.0</td>\n",
       "      <td>R</td>\n",
       "    </tr>\n",
       "    <tr>\n",
       "      <th>52</th>\n",
       "      <td>Ron</td>\n",
       "      <td>Stevenson</td>\n",
       "      <td>rstevenson80@gmail.com</td>\n",
       "      <td>40.0</td>\n",
       "      <td>Australia</td>\n",
       "      <td>112000.0</td>\n",
       "      <td>Python</td>\n",
       "    </tr>\n",
       "    <tr>\n",
       "      <th>53</th>\n",
       "      <td>Oswald</td>\n",
       "      <td>Gerard</td>\n",
       "      <td>ogerard55@gmail.com</td>\n",
       "      <td>25.0</td>\n",
       "      <td>UK</td>\n",
       "      <td>69000.0</td>\n",
       "      <td>Ruby</td>\n",
       "    </tr>\n",
       "    <tr>\n",
       "      <th>54</th>\n",
       "      <td>Karim</td>\n",
       "      <td>Carlson</td>\n",
       "      <td>NaN</td>\n",
       "      <td>NaN</td>\n",
       "      <td>NaN</td>\n",
       "      <td>NaN</td>\n",
       "      <td>NaN</td>\n",
       "    </tr>\n",
       "  </tbody>\n",
       "</table>\n",
       "</div>"
      ],
      "text/plain": [
       "   first_name  last_name                   email   age    country    salary  \\\n",
       "50     Victor  Magnusson  vmagnusson39@gmail.com  32.0     Canada   75000.0   \n",
       "51       Mark    Lehmann    mlehmann74@gmail.com  34.0   Scotland   41000.0   \n",
       "52        Ron  Stevenson  rstevenson80@gmail.com  40.0  Australia  112000.0   \n",
       "53     Oswald     Gerard     ogerard55@gmail.com  25.0         UK   69000.0   \n",
       "54      Karim    Carlson                     NaN   NaN        NaN       NaN   \n",
       "\n",
       "   languages  \n",
       "50      Java  \n",
       "51         R  \n",
       "52    Python  \n",
       "53      Ruby  \n",
       "54       NaN  "
      ]
     },
     "execution_count": 40,
     "metadata": {},
     "output_type": "execute_result"
    }
   ],
   "source": [
    "df.tail()"
   ]
  },
  {
   "cell_type": "markdown",
   "id": "77a4dda7-3d33-4653-88dd-52d9e6cf8549",
   "metadata": {},
   "source": [
    ">*We have successfully removed the new row that has been created.*"
   ]
  },
  {
   "cell_type": "markdown",
   "id": "43233de1-f86d-40da-986c-e2ee3005eb32",
   "metadata": {},
   "source": [
    "<br>\n",
    "\n",
    "#### 2. Methods for Adding/Removing Columns"
   ]
  },
  {
   "cell_type": "code",
   "execution_count": 41,
   "id": "293c14e8-8cd0-4d86-bc3d-14e0f938667a",
   "metadata": {},
   "outputs": [
    {
     "data": {
      "text/html": [
       "<div>\n",
       "<style scoped>\n",
       "    .dataframe tbody tr th:only-of-type {\n",
       "        vertical-align: middle;\n",
       "    }\n",
       "\n",
       "    .dataframe tbody tr th {\n",
       "        vertical-align: top;\n",
       "    }\n",
       "\n",
       "    .dataframe thead th {\n",
       "        text-align: right;\n",
       "    }\n",
       "</style>\n",
       "<table border=\"1\" class=\"dataframe\">\n",
       "  <thead>\n",
       "    <tr style=\"text-align: right;\">\n",
       "      <th></th>\n",
       "      <th>first_name</th>\n",
       "      <th>last_name</th>\n",
       "      <th>email</th>\n",
       "      <th>age</th>\n",
       "      <th>country</th>\n",
       "      <th>salary</th>\n",
       "      <th>languages</th>\n",
       "    </tr>\n",
       "  </thead>\n",
       "  <tbody>\n",
       "    <tr>\n",
       "      <th>0</th>\n",
       "      <td>Frank</td>\n",
       "      <td>Thomas</td>\n",
       "      <td>fthomas94@gmail.com</td>\n",
       "      <td>34.0</td>\n",
       "      <td>Scotland</td>\n",
       "      <td>117000.0</td>\n",
       "      <td>R</td>\n",
       "    </tr>\n",
       "    <tr>\n",
       "      <th>1</th>\n",
       "      <td>Carl</td>\n",
       "      <td>Hansen</td>\n",
       "      <td>chansen28@gmail.com</td>\n",
       "      <td>38.0</td>\n",
       "      <td>UK</td>\n",
       "      <td>101000.0</td>\n",
       "      <td>Ruby</td>\n",
       "    </tr>\n",
       "  </tbody>\n",
       "</table>\n",
       "</div>"
      ],
      "text/plain": [
       "  first_name last_name                email   age   country    salary  \\\n",
       "0      Frank    Thomas  fthomas94@gmail.com  34.0  Scotland  117000.0   \n",
       "1       Carl    Hansen  chansen28@gmail.com  38.0        UK  101000.0   \n",
       "\n",
       "  languages  \n",
       "0         R  \n",
       "1      Ruby  "
      ]
     },
     "execution_count": 41,
     "metadata": {},
     "output_type": "execute_result"
    }
   ],
   "source": [
    "df.head(2)"
   ]
  },
  {
   "cell_type": "markdown",
   "id": "382aeece-edb3-4af1-9e72-ce9c3dec6ee5",
   "metadata": {},
   "source": [
    "*We add a new column by passing the new column name is an index of the DataFrame and assign an operation to it, as demonstrated below.*"
   ]
  },
  {
   "cell_type": "code",
   "execution_count": 45,
   "id": "cf69adee-8de4-485c-aab6-695124bfe68b",
   "metadata": {},
   "outputs": [
    {
     "data": {
      "text/html": [
       "<div>\n",
       "<style scoped>\n",
       "    .dataframe tbody tr th:only-of-type {\n",
       "        vertical-align: middle;\n",
       "    }\n",
       "\n",
       "    .dataframe tbody tr th {\n",
       "        vertical-align: top;\n",
       "    }\n",
       "\n",
       "    .dataframe thead th {\n",
       "        text-align: right;\n",
       "    }\n",
       "</style>\n",
       "<table border=\"1\" class=\"dataframe\">\n",
       "  <thead>\n",
       "    <tr style=\"text-align: right;\">\n",
       "      <th></th>\n",
       "      <th>first_name</th>\n",
       "      <th>last_name</th>\n",
       "      <th>email</th>\n",
       "      <th>age</th>\n",
       "      <th>country</th>\n",
       "      <th>salary</th>\n",
       "      <th>languages</th>\n",
       "      <th>monthly_salary</th>\n",
       "    </tr>\n",
       "  </thead>\n",
       "  <tbody>\n",
       "    <tr>\n",
       "      <th>0</th>\n",
       "      <td>Frank</td>\n",
       "      <td>Thomas</td>\n",
       "      <td>fthomas94@gmail.com</td>\n",
       "      <td>34.0</td>\n",
       "      <td>Scotland</td>\n",
       "      <td>117000.0</td>\n",
       "      <td>R</td>\n",
       "      <td>9750.000000</td>\n",
       "    </tr>\n",
       "    <tr>\n",
       "      <th>1</th>\n",
       "      <td>Carl</td>\n",
       "      <td>Hansen</td>\n",
       "      <td>chansen28@gmail.com</td>\n",
       "      <td>38.0</td>\n",
       "      <td>UK</td>\n",
       "      <td>101000.0</td>\n",
       "      <td>Ruby</td>\n",
       "      <td>8416.666667</td>\n",
       "    </tr>\n",
       "    <tr>\n",
       "      <th>2</th>\n",
       "      <td>Aaron</td>\n",
       "      <td>Hansen</td>\n",
       "      <td>ahansen75@gmail.com</td>\n",
       "      <td>26.0</td>\n",
       "      <td>Canada</td>\n",
       "      <td>92000.0</td>\n",
       "      <td>PHP</td>\n",
       "      <td>7666.666667</td>\n",
       "    </tr>\n",
       "    <tr>\n",
       "      <th>3</th>\n",
       "      <td>Evan</td>\n",
       "      <td>Phillips</td>\n",
       "      <td>ephillips75@gmail.com</td>\n",
       "      <td>30.0</td>\n",
       "      <td>Australia</td>\n",
       "      <td>51000.0</td>\n",
       "      <td>R</td>\n",
       "      <td>4250.000000</td>\n",
       "    </tr>\n",
       "    <tr>\n",
       "      <th>4</th>\n",
       "      <td>Benjamin</td>\n",
       "      <td>Kramer</td>\n",
       "      <td>bkramer29@gmail.com</td>\n",
       "      <td>34.0</td>\n",
       "      <td>Scotland</td>\n",
       "      <td>71000.0</td>\n",
       "      <td>Python</td>\n",
       "      <td>5916.666667</td>\n",
       "    </tr>\n",
       "  </tbody>\n",
       "</table>\n",
       "</div>"
      ],
      "text/plain": [
       "  first_name last_name                  email   age    country    salary  \\\n",
       "0      Frank    Thomas    fthomas94@gmail.com  34.0   Scotland  117000.0   \n",
       "1       Carl    Hansen    chansen28@gmail.com  38.0         UK  101000.0   \n",
       "2      Aaron    Hansen    ahansen75@gmail.com  26.0     Canada   92000.0   \n",
       "3       Evan  Phillips  ephillips75@gmail.com  30.0  Australia   51000.0   \n",
       "4   Benjamin    Kramer    bkramer29@gmail.com  34.0   Scotland   71000.0   \n",
       "\n",
       "  languages  monthly_salary  \n",
       "0         R     9750.000000  \n",
       "1      Ruby     8416.666667  \n",
       "2       PHP     7666.666667  \n",
       "3         R     4250.000000  \n",
       "4    Python     5916.666667  "
      ]
     },
     "execution_count": 45,
     "metadata": {},
     "output_type": "execute_result"
    }
   ],
   "source": [
    "df['monthly_salary'] = (df['salary'] / 12)\n",
    "df.head()"
   ]
  },
  {
   "cell_type": "markdown",
   "id": "68dfe11d-a3e7-4534-8f86-afc362a8f34b",
   "metadata": {},
   "source": [
    "<br>\n",
    "\n",
    "*To remove the column we just created, we can use **df.drop( )** method.*"
   ]
  },
  {
   "cell_type": "code",
   "execution_count": 46,
   "id": "0ef97849-8fc4-48b3-b23c-9cb0827bacdb",
   "metadata": {},
   "outputs": [
    {
     "data": {
      "text/html": [
       "<div>\n",
       "<style scoped>\n",
       "    .dataframe tbody tr th:only-of-type {\n",
       "        vertical-align: middle;\n",
       "    }\n",
       "\n",
       "    .dataframe tbody tr th {\n",
       "        vertical-align: top;\n",
       "    }\n",
       "\n",
       "    .dataframe thead th {\n",
       "        text-align: right;\n",
       "    }\n",
       "</style>\n",
       "<table border=\"1\" class=\"dataframe\">\n",
       "  <thead>\n",
       "    <tr style=\"text-align: right;\">\n",
       "      <th></th>\n",
       "      <th>first_name</th>\n",
       "      <th>last_name</th>\n",
       "      <th>email</th>\n",
       "      <th>age</th>\n",
       "      <th>country</th>\n",
       "      <th>salary</th>\n",
       "      <th>languages</th>\n",
       "    </tr>\n",
       "  </thead>\n",
       "  <tbody>\n",
       "    <tr>\n",
       "      <th>0</th>\n",
       "      <td>Frank</td>\n",
       "      <td>Thomas</td>\n",
       "      <td>fthomas94@gmail.com</td>\n",
       "      <td>34.0</td>\n",
       "      <td>Scotland</td>\n",
       "      <td>117000.0</td>\n",
       "      <td>R</td>\n",
       "    </tr>\n",
       "    <tr>\n",
       "      <th>1</th>\n",
       "      <td>Carl</td>\n",
       "      <td>Hansen</td>\n",
       "      <td>chansen28@gmail.com</td>\n",
       "      <td>38.0</td>\n",
       "      <td>UK</td>\n",
       "      <td>101000.0</td>\n",
       "      <td>Ruby</td>\n",
       "    </tr>\n",
       "    <tr>\n",
       "      <th>2</th>\n",
       "      <td>Aaron</td>\n",
       "      <td>Hansen</td>\n",
       "      <td>ahansen75@gmail.com</td>\n",
       "      <td>26.0</td>\n",
       "      <td>Canada</td>\n",
       "      <td>92000.0</td>\n",
       "      <td>PHP</td>\n",
       "    </tr>\n",
       "    <tr>\n",
       "      <th>3</th>\n",
       "      <td>Evan</td>\n",
       "      <td>Phillips</td>\n",
       "      <td>ephillips75@gmail.com</td>\n",
       "      <td>30.0</td>\n",
       "      <td>Australia</td>\n",
       "      <td>51000.0</td>\n",
       "      <td>R</td>\n",
       "    </tr>\n",
       "    <tr>\n",
       "      <th>4</th>\n",
       "      <td>Benjamin</td>\n",
       "      <td>Kramer</td>\n",
       "      <td>bkramer29@gmail.com</td>\n",
       "      <td>34.0</td>\n",
       "      <td>Scotland</td>\n",
       "      <td>71000.0</td>\n",
       "      <td>Python</td>\n",
       "    </tr>\n",
       "  </tbody>\n",
       "</table>\n",
       "</div>"
      ],
      "text/plain": [
       "  first_name last_name                  email   age    country    salary  \\\n",
       "0      Frank    Thomas    fthomas94@gmail.com  34.0   Scotland  117000.0   \n",
       "1       Carl    Hansen    chansen28@gmail.com  38.0         UK  101000.0   \n",
       "2      Aaron    Hansen    ahansen75@gmail.com  26.0     Canada   92000.0   \n",
       "3       Evan  Phillips  ephillips75@gmail.com  30.0  Australia   51000.0   \n",
       "4   Benjamin    Kramer    bkramer29@gmail.com  34.0   Scotland   71000.0   \n",
       "\n",
       "  languages  \n",
       "0         R  \n",
       "1      Ruby  \n",
       "2       PHP  \n",
       "3         R  \n",
       "4    Python  "
      ]
     },
     "execution_count": 46,
     "metadata": {},
     "output_type": "execute_result"
    }
   ],
   "source": [
    "df.drop(columns='monthly_salary', inplace=True)\n",
    "df.head()"
   ]
  },
  {
   "cell_type": "markdown",
   "id": "4d00510b-9239-4d9e-a30c-c02beb8fb66c",
   "metadata": {},
   "source": [
    ">*We have successfully removed the column 'monthly_salary'*"
   ]
  },
  {
   "cell_type": "markdown",
   "id": "3f135cf8-eb89-4d45-9bf2-99f17e1549d2",
   "metadata": {
    "tags": []
   },
   "source": [
    "<a id='method_upd'></a>\n",
    "### Updating Rows & Columns"
   ]
  },
  {
   "cell_type": "markdown",
   "id": "e70f0e41-2242-4a21-b937-f47c1faaf65c",
   "metadata": {},
   "source": [
    "#### 1. Methods for Updating Columns"
   ]
  },
  {
   "cell_type": "code",
   "execution_count": 47,
   "id": "855d3948-5160-4a6d-a95e-9b23fe4f1bec",
   "metadata": {},
   "outputs": [
    {
     "data": {
      "text/plain": [
       "Index(['first_name', 'last_name', 'email', 'age', 'country', 'salary',\n",
       "       'languages'],\n",
       "      dtype='object')"
      ]
     },
     "execution_count": 47,
     "metadata": {},
     "output_type": "execute_result"
    }
   ],
   "source": [
    "df.columns     # Returns list with column names"
   ]
  },
  {
   "cell_type": "markdown",
   "id": "87c36801-2967-4011-8fdd-0ef978af46f8",
   "metadata": {},
   "source": [
    "> Below are 3 different ways to rename columns"
   ]
  },
  {
   "cell_type": "code",
   "execution_count": 48,
   "id": "16caab99-5628-4a87-a77e-0402467f03e5",
   "metadata": {},
   "outputs": [
    {
     "data": {
      "text/plain": [
       "Index(['FIRST_NAME', 'LAST_NAME', 'EMAIL', 'AGE', 'COUNTRY', 'SALARY',\n",
       "       'LANGUAGES'],\n",
       "      dtype='object')"
      ]
     },
     "execution_count": 48,
     "metadata": {},
     "output_type": "execute_result"
    }
   ],
   "source": [
    "df.columns = [x.upper() for x in df.columns]\n",
    "\n",
    "# Applies .upper() on all columns \n",
    "\n",
    "df.columns"
   ]
  },
  {
   "cell_type": "code",
   "execution_count": 49,
   "id": "8e157c17-e0ec-4379-88dd-c8dd395035dd",
   "metadata": {},
   "outputs": [
    {
     "data": {
      "text/plain": [
       "Index(['First_Name', 'LAST_NAME', 'EMAIL', 'AGE', 'COUNTRY', 'SALARY',\n",
       "       'LANGUAGES'],\n",
       "      dtype='object')"
      ]
     },
     "execution_count": 49,
     "metadata": {},
     "output_type": "execute_result"
    }
   ],
   "source": [
    "df.rename(columns={'FIRST_NAME': 'First_Name'}, inplace=True)\n",
    "\n",
    "# This is used to rename only the values you pass in {'Column_Name': 'New_Column_Name'} \n",
    "\n",
    "df.columns"
   ]
  },
  {
   "cell_type": "code",
   "execution_count": 50,
   "id": "726c7cae-e70d-41d8-8900-add17416e39f",
   "metadata": {},
   "outputs": [
    {
     "data": {
      "text/plain": [
       "Index(['first_name', 'last_name', 'email', 'age', 'country', 'salary',\n",
       "       'languages'],\n",
       "      dtype='object')"
      ]
     },
     "execution_count": 50,
     "metadata": {},
     "output_type": "execute_result"
    }
   ],
   "source": [
    "df.rename(columns= lambda x: x.lower(), inplace=True)\n",
    "\n",
    "# Rename columns using lambda function\n",
    "\n",
    "df.columns"
   ]
  },
  {
   "cell_type": "markdown",
   "id": "5b70a401-41fa-456f-9e0d-aca1e942b4c4",
   "metadata": {},
   "source": [
    "<br>\n",
    "\n",
    "#### 2. Methods for Updating Rows"
   ]
  },
  {
   "cell_type": "markdown",
   "id": "4e904e7f-4e36-4ccf-8ea6-87e156d67289",
   "metadata": {},
   "source": [
    "> *You can use **.loc** method to re-assign values within the specified row, as demonstrated below.*"
   ]
  },
  {
   "cell_type": "code",
   "execution_count": 51,
   "id": "1955e220-aebb-4fee-a080-295d1364ca3d",
   "metadata": {},
   "outputs": [
    {
     "data": {
      "text/plain": [
       "first_name                 Aziz\n",
       "last_name                Ansari\n",
       "email         aansari@gmail.com\n",
       "age                        40.0\n",
       "country               Australia\n",
       "salary                  51000.0\n",
       "languages                     R\n",
       "Name: 3, dtype: object"
      ]
     },
     "execution_count": 51,
     "metadata": {},
     "output_type": "execute_result"
    }
   ],
   "source": [
    "df.loc[3, ['first_name', 'last_name', 'email', 'age']] = ['Aziz', 'Ansari', 'aansari@gmail.com', 40]\n",
    "\n",
    "# Specify row and and columns where you want to change values using .loc method\n",
    "# by passing row index and list of column names you wish to re-assign.\n",
    "\n",
    "df.loc[3]"
   ]
  },
  {
   "cell_type": "code",
   "execution_count": 52,
   "id": "dc0f75e9-3c78-40da-acef-3bb366d3e15d",
   "metadata": {},
   "outputs": [
    {
     "data": {
      "text/html": [
       "<div>\n",
       "<style scoped>\n",
       "    .dataframe tbody tr th:only-of-type {\n",
       "        vertical-align: middle;\n",
       "    }\n",
       "\n",
       "    .dataframe tbody tr th {\n",
       "        vertical-align: top;\n",
       "    }\n",
       "\n",
       "    .dataframe thead th {\n",
       "        text-align: right;\n",
       "    }\n",
       "</style>\n",
       "<table border=\"1\" class=\"dataframe\">\n",
       "  <thead>\n",
       "    <tr style=\"text-align: right;\">\n",
       "      <th></th>\n",
       "      <th>first_name</th>\n",
       "      <th>last_name</th>\n",
       "      <th>email</th>\n",
       "      <th>age</th>\n",
       "      <th>country</th>\n",
       "      <th>salary</th>\n",
       "      <th>languages</th>\n",
       "    </tr>\n",
       "  </thead>\n",
       "  <tbody>\n",
       "    <tr>\n",
       "      <th>0</th>\n",
       "      <td>Frank</td>\n",
       "      <td>Thomas</td>\n",
       "      <td>fthomas94@gmail.com</td>\n",
       "      <td>34.0</td>\n",
       "      <td>Scotland</td>\n",
       "      <td>117000.0</td>\n",
       "      <td>R</td>\n",
       "    </tr>\n",
       "    <tr>\n",
       "      <th>1</th>\n",
       "      <td>Carl</td>\n",
       "      <td>Hansen</td>\n",
       "      <td>chansen28@gmail.com</td>\n",
       "      <td>38.0</td>\n",
       "      <td>UK</td>\n",
       "      <td>101000.0</td>\n",
       "      <td>Ruby</td>\n",
       "    </tr>\n",
       "    <tr>\n",
       "      <th>2</th>\n",
       "      <td>Aaron</td>\n",
       "      <td>Hansen</td>\n",
       "      <td>ahansen75@gmail.com</td>\n",
       "      <td>26.0</td>\n",
       "      <td>Canada</td>\n",
       "      <td>92000.0</td>\n",
       "      <td>PHP</td>\n",
       "    </tr>\n",
       "    <tr>\n",
       "      <th>3</th>\n",
       "      <td>Aziz</td>\n",
       "      <td>Ansari</td>\n",
       "      <td>aansari@gmail.com</td>\n",
       "      <td>40.0</td>\n",
       "      <td>Australia</td>\n",
       "      <td>51000.0</td>\n",
       "      <td>R</td>\n",
       "    </tr>\n",
       "  </tbody>\n",
       "</table>\n",
       "</div>"
      ],
      "text/plain": [
       "  first_name last_name                email   age    country    salary  \\\n",
       "0      Frank    Thomas  fthomas94@gmail.com  34.0   Scotland  117000.0   \n",
       "1       Carl    Hansen  chansen28@gmail.com  38.0         UK  101000.0   \n",
       "2      Aaron    Hansen  ahansen75@gmail.com  26.0     Canada   92000.0   \n",
       "3       Aziz    Ansari    aansari@gmail.com  40.0  Australia   51000.0   \n",
       "\n",
       "  languages  \n",
       "0         R  \n",
       "1      Ruby  \n",
       "2       PHP  \n",
       "3         R  "
      ]
     },
     "execution_count": 52,
     "metadata": {},
     "output_type": "execute_result"
    }
   ],
   "source": [
    "df.head(4)"
   ]
  },
  {
   "cell_type": "markdown",
   "id": "40a75adc-2351-4066-ba28-1af86b33b2b3",
   "metadata": {},
   "source": [
    ">As you can see, row index 3 values have changed."
   ]
  },
  {
   "cell_type": "markdown",
   "id": "978e8638-de33-4556-a346-6d2bc7c599b8",
   "metadata": {},
   "source": [
    "*These are the methods for updating rows and columns in **Pandas**.*"
   ]
  },
  {
   "cell_type": "markdown",
   "id": "c544dc73-b45c-4d78-a6ca-d8f6cad754af",
   "metadata": {
    "tags": []
   },
   "source": [
    "<a id='method_filt'></a>\n",
    "### Filtering Methods"
   ]
  },
  {
   "cell_type": "markdown",
   "id": "8e566fef-d65e-46c0-96b6-a5417da9261c",
   "metadata": {},
   "source": [
    "> In this part, I will demonstrate how to create filters to help you pick specific values from the DataFrame."
   ]
  },
  {
   "cell_type": "code",
   "execution_count": 55,
   "id": "80e7d427-3a00-43e3-a371-ba51bff260cd",
   "metadata": {},
   "outputs": [
    {
     "data": {
      "text/html": [
       "<div>\n",
       "<style scoped>\n",
       "    .dataframe tbody tr th:only-of-type {\n",
       "        vertical-align: middle;\n",
       "    }\n",
       "\n",
       "    .dataframe tbody tr th {\n",
       "        vertical-align: top;\n",
       "    }\n",
       "\n",
       "    .dataframe thead th {\n",
       "        text-align: right;\n",
       "    }\n",
       "</style>\n",
       "<table border=\"1\" class=\"dataframe\">\n",
       "  <thead>\n",
       "    <tr style=\"text-align: right;\">\n",
       "      <th></th>\n",
       "      <th>first_name</th>\n",
       "      <th>last_name</th>\n",
       "      <th>email</th>\n",
       "      <th>age</th>\n",
       "      <th>country</th>\n",
       "      <th>salary</th>\n",
       "      <th>languages</th>\n",
       "    </tr>\n",
       "  </thead>\n",
       "  <tbody>\n",
       "    <tr>\n",
       "      <th>10</th>\n",
       "      <td>Frederick</td>\n",
       "      <td>Kimmel</td>\n",
       "      <td>fkimmel54@gmail.com</td>\n",
       "      <td>36.0</td>\n",
       "      <td>UK</td>\n",
       "      <td>82000.0</td>\n",
       "      <td>Ruby</td>\n",
       "    </tr>\n",
       "    <tr>\n",
       "      <th>29</th>\n",
       "      <td>Salim</td>\n",
       "      <td>Kimmel</td>\n",
       "      <td>skimmel57@gmail.com</td>\n",
       "      <td>35.0</td>\n",
       "      <td>Australia</td>\n",
       "      <td>120000.0</td>\n",
       "      <td>PHP</td>\n",
       "    </tr>\n",
       "  </tbody>\n",
       "</table>\n",
       "</div>"
      ],
      "text/plain": [
       "   first_name last_name                email   age    country    salary  \\\n",
       "10  Frederick    Kimmel  fkimmel54@gmail.com  36.0         UK   82000.0   \n",
       "29      Salim    Kimmel  skimmel57@gmail.com  35.0  Australia  120000.0   \n",
       "\n",
       "   languages  \n",
       "10      Ruby  \n",
       "29       PHP  "
      ]
     },
     "execution_count": 55,
     "metadata": {},
     "output_type": "execute_result"
    }
   ],
   "source": [
    "df[df['last_name'] == 'Kimmel']\n",
    "\n",
    "# Returns all rows where 'last_name' is 'Manning'"
   ]
  },
  {
   "cell_type": "code",
   "execution_count": 56,
   "id": "4e265059-2565-4141-99f4-30f9e4b09acf",
   "metadata": {},
   "outputs": [
    {
     "data": {
      "text/html": [
       "<div>\n",
       "<style scoped>\n",
       "    .dataframe tbody tr th:only-of-type {\n",
       "        vertical-align: middle;\n",
       "    }\n",
       "\n",
       "    .dataframe tbody tr th {\n",
       "        vertical-align: top;\n",
       "    }\n",
       "\n",
       "    .dataframe thead th {\n",
       "        text-align: right;\n",
       "    }\n",
       "</style>\n",
       "<table border=\"1\" class=\"dataframe\">\n",
       "  <thead>\n",
       "    <tr style=\"text-align: right;\">\n",
       "      <th></th>\n",
       "      <th>first_name</th>\n",
       "      <th>last_name</th>\n",
       "      <th>email</th>\n",
       "      <th>age</th>\n",
       "      <th>country</th>\n",
       "      <th>salary</th>\n",
       "      <th>languages</th>\n",
       "    </tr>\n",
       "  </thead>\n",
       "  <tbody>\n",
       "    <tr>\n",
       "      <th>0</th>\n",
       "      <td>Frank</td>\n",
       "      <td>Thomas</td>\n",
       "      <td>fthomas94@gmail.com</td>\n",
       "      <td>34.0</td>\n",
       "      <td>Scotland</td>\n",
       "      <td>117000.0</td>\n",
       "      <td>R</td>\n",
       "    </tr>\n",
       "    <tr>\n",
       "      <th>1</th>\n",
       "      <td>Carl</td>\n",
       "      <td>Hansen</td>\n",
       "      <td>chansen28@gmail.com</td>\n",
       "      <td>38.0</td>\n",
       "      <td>UK</td>\n",
       "      <td>101000.0</td>\n",
       "      <td>Ruby</td>\n",
       "    </tr>\n",
       "    <tr>\n",
       "      <th>9</th>\n",
       "      <td>Daniel</td>\n",
       "      <td>Hank</td>\n",
       "      <td>dhank42@gmail.com</td>\n",
       "      <td>27.0</td>\n",
       "      <td>USA</td>\n",
       "      <td>107000.0</td>\n",
       "      <td>Java</td>\n",
       "    </tr>\n",
       "    <tr>\n",
       "      <th>27</th>\n",
       "      <td>Carl</td>\n",
       "      <td>Atkinson</td>\n",
       "      <td>catkinson68@gmail.com</td>\n",
       "      <td>37.0</td>\n",
       "      <td>Australia</td>\n",
       "      <td>105000.0</td>\n",
       "      <td>Java</td>\n",
       "    </tr>\n",
       "    <tr>\n",
       "      <th>29</th>\n",
       "      <td>Salim</td>\n",
       "      <td>Kimmel</td>\n",
       "      <td>skimmel57@gmail.com</td>\n",
       "      <td>35.0</td>\n",
       "      <td>Australia</td>\n",
       "      <td>120000.0</td>\n",
       "      <td>PHP</td>\n",
       "    </tr>\n",
       "    <tr>\n",
       "      <th>33</th>\n",
       "      <td>Neil</td>\n",
       "      <td>Magnusson</td>\n",
       "      <td>nmagnusson54@gmail.com</td>\n",
       "      <td>39.0</td>\n",
       "      <td>UK</td>\n",
       "      <td>108000.0</td>\n",
       "      <td>Ruby</td>\n",
       "    </tr>\n",
       "    <tr>\n",
       "      <th>34</th>\n",
       "      <td>Peter</td>\n",
       "      <td>Robinson</td>\n",
       "      <td>probinson48@gmail.com</td>\n",
       "      <td>29.0</td>\n",
       "      <td>USA</td>\n",
       "      <td>109000.0</td>\n",
       "      <td>Ruby</td>\n",
       "    </tr>\n",
       "    <tr>\n",
       "      <th>39</th>\n",
       "      <td>Martin</td>\n",
       "      <td>Eriksen</td>\n",
       "      <td>meriksen65@gmail.com</td>\n",
       "      <td>28.0</td>\n",
       "      <td>USA</td>\n",
       "      <td>119000.0</td>\n",
       "      <td>Python</td>\n",
       "    </tr>\n",
       "    <tr>\n",
       "      <th>43</th>\n",
       "      <td>John</td>\n",
       "      <td>Stevenson</td>\n",
       "      <td>jstevenson63@gmail.com</td>\n",
       "      <td>26.0</td>\n",
       "      <td>Australia</td>\n",
       "      <td>111000.0</td>\n",
       "      <td>Ruby</td>\n",
       "    </tr>\n",
       "    <tr>\n",
       "      <th>44</th>\n",
       "      <td>Quentin</td>\n",
       "      <td>Mendez</td>\n",
       "      <td>qmendez82@gmail.com</td>\n",
       "      <td>45.0</td>\n",
       "      <td>UK</td>\n",
       "      <td>113000.0</td>\n",
       "      <td>Dart</td>\n",
       "    </tr>\n",
       "    <tr>\n",
       "      <th>48</th>\n",
       "      <td>Bill</td>\n",
       "      <td>Williams</td>\n",
       "      <td>bwilliams16@gmail.com</td>\n",
       "      <td>45.0</td>\n",
       "      <td>UK</td>\n",
       "      <td>110000.0</td>\n",
       "      <td>R</td>\n",
       "    </tr>\n",
       "    <tr>\n",
       "      <th>52</th>\n",
       "      <td>Ron</td>\n",
       "      <td>Stevenson</td>\n",
       "      <td>rstevenson80@gmail.com</td>\n",
       "      <td>40.0</td>\n",
       "      <td>Australia</td>\n",
       "      <td>112000.0</td>\n",
       "      <td>Python</td>\n",
       "    </tr>\n",
       "  </tbody>\n",
       "</table>\n",
       "</div>"
      ],
      "text/plain": [
       "   first_name  last_name                   email   age    country    salary  \\\n",
       "0       Frank     Thomas     fthomas94@gmail.com  34.0   Scotland  117000.0   \n",
       "1        Carl     Hansen     chansen28@gmail.com  38.0         UK  101000.0   \n",
       "9      Daniel       Hank       dhank42@gmail.com  27.0        USA  107000.0   \n",
       "27       Carl   Atkinson   catkinson68@gmail.com  37.0  Australia  105000.0   \n",
       "29      Salim     Kimmel     skimmel57@gmail.com  35.0  Australia  120000.0   \n",
       "33       Neil  Magnusson  nmagnusson54@gmail.com  39.0         UK  108000.0   \n",
       "34      Peter   Robinson   probinson48@gmail.com  29.0        USA  109000.0   \n",
       "39     Martin    Eriksen    meriksen65@gmail.com  28.0        USA  119000.0   \n",
       "43       John  Stevenson  jstevenson63@gmail.com  26.0  Australia  111000.0   \n",
       "44    Quentin     Mendez     qmendez82@gmail.com  45.0         UK  113000.0   \n",
       "48       Bill   Williams   bwilliams16@gmail.com  45.0         UK  110000.0   \n",
       "52        Ron  Stevenson  rstevenson80@gmail.com  40.0  Australia  112000.0   \n",
       "\n",
       "   languages  \n",
       "0          R  \n",
       "1       Ruby  \n",
       "9       Java  \n",
       "27      Java  \n",
       "29       PHP  \n",
       "33      Ruby  \n",
       "34      Ruby  \n",
       "39    Python  \n",
       "43      Ruby  \n",
       "44      Dart  \n",
       "48         R  \n",
       "52    Python  "
      ]
     },
     "execution_count": 56,
     "metadata": {},
     "output_type": "execute_result"
    }
   ],
   "source": [
    "df[df['salary'] > 100000]\n",
    "\n",
    "# Returns all rows where 'salary' is less than 100,000"
   ]
  },
  {
   "cell_type": "code",
   "execution_count": 57,
   "id": "fce3c4b3-7ceb-40b3-8be3-26493ef3c21d",
   "metadata": {},
   "outputs": [
    {
     "data": {
      "text/html": [
       "<div>\n",
       "<style scoped>\n",
       "    .dataframe tbody tr th:only-of-type {\n",
       "        vertical-align: middle;\n",
       "    }\n",
       "\n",
       "    .dataframe tbody tr th {\n",
       "        vertical-align: top;\n",
       "    }\n",
       "\n",
       "    .dataframe thead th {\n",
       "        text-align: right;\n",
       "    }\n",
       "</style>\n",
       "<table border=\"1\" class=\"dataframe\">\n",
       "  <thead>\n",
       "    <tr style=\"text-align: right;\">\n",
       "      <th></th>\n",
       "      <th>first_name</th>\n",
       "      <th>last_name</th>\n",
       "      <th>email</th>\n",
       "      <th>age</th>\n",
       "      <th>country</th>\n",
       "      <th>salary</th>\n",
       "      <th>languages</th>\n",
       "    </tr>\n",
       "  </thead>\n",
       "  <tbody>\n",
       "    <tr>\n",
       "      <th>2</th>\n",
       "      <td>Aaron</td>\n",
       "      <td>Hansen</td>\n",
       "      <td>ahansen75@gmail.com</td>\n",
       "      <td>26.0</td>\n",
       "      <td>Canada</td>\n",
       "      <td>92000.0</td>\n",
       "      <td>PHP</td>\n",
       "    </tr>\n",
       "    <tr>\n",
       "      <th>9</th>\n",
       "      <td>Daniel</td>\n",
       "      <td>Hank</td>\n",
       "      <td>dhank42@gmail.com</td>\n",
       "      <td>27.0</td>\n",
       "      <td>USA</td>\n",
       "      <td>107000.0</td>\n",
       "      <td>Java</td>\n",
       "    </tr>\n",
       "    <tr>\n",
       "      <th>13</th>\n",
       "      <td>Oscar</td>\n",
       "      <td>Samir</td>\n",
       "      <td>osamir10@gmail.com</td>\n",
       "      <td>25.0</td>\n",
       "      <td>New Zealand</td>\n",
       "      <td>91000.0</td>\n",
       "      <td>R</td>\n",
       "    </tr>\n",
       "    <tr>\n",
       "      <th>14</th>\n",
       "      <td>Steven</td>\n",
       "      <td>Patten</td>\n",
       "      <td>spatten89@gmail.com</td>\n",
       "      <td>25.0</td>\n",
       "      <td>New Zealand</td>\n",
       "      <td>73000.0</td>\n",
       "      <td>Dart</td>\n",
       "    </tr>\n",
       "    <tr>\n",
       "      <th>17</th>\n",
       "      <td>Patrick</td>\n",
       "      <td>Patten</td>\n",
       "      <td>ppatten96@gmail.com</td>\n",
       "      <td>25.0</td>\n",
       "      <td>UK</td>\n",
       "      <td>72000.0</td>\n",
       "      <td>R</td>\n",
       "    </tr>\n",
       "    <tr>\n",
       "      <th>21</th>\n",
       "      <td>Amin</td>\n",
       "      <td>Hank</td>\n",
       "      <td>ahank60@gmail.com</td>\n",
       "      <td>25.0</td>\n",
       "      <td>USA</td>\n",
       "      <td>49000.0</td>\n",
       "      <td>Ruby</td>\n",
       "    </tr>\n",
       "    <tr>\n",
       "      <th>25</th>\n",
       "      <td>Erik</td>\n",
       "      <td>Terry</td>\n",
       "      <td>eterry45@gmail.com</td>\n",
       "      <td>25.0</td>\n",
       "      <td>Scotland</td>\n",
       "      <td>71000.0</td>\n",
       "      <td>Ruby</td>\n",
       "    </tr>\n",
       "    <tr>\n",
       "      <th>32</th>\n",
       "      <td>Edwin</td>\n",
       "      <td>Hamilton</td>\n",
       "      <td>ehamilton86@gmail.com</td>\n",
       "      <td>25.0</td>\n",
       "      <td>New Zealand</td>\n",
       "      <td>82000.0</td>\n",
       "      <td>Python</td>\n",
       "    </tr>\n",
       "    <tr>\n",
       "      <th>42</th>\n",
       "      <td>Russel</td>\n",
       "      <td>Woodburn</td>\n",
       "      <td>rwoodburn12@gmail.com</td>\n",
       "      <td>25.0</td>\n",
       "      <td>New Zealand</td>\n",
       "      <td>42000.0</td>\n",
       "      <td>Ruby</td>\n",
       "    </tr>\n",
       "    <tr>\n",
       "      <th>43</th>\n",
       "      <td>John</td>\n",
       "      <td>Stevenson</td>\n",
       "      <td>jstevenson63@gmail.com</td>\n",
       "      <td>26.0</td>\n",
       "      <td>Australia</td>\n",
       "      <td>111000.0</td>\n",
       "      <td>Ruby</td>\n",
       "    </tr>\n",
       "    <tr>\n",
       "      <th>53</th>\n",
       "      <td>Oswald</td>\n",
       "      <td>Gerard</td>\n",
       "      <td>ogerard55@gmail.com</td>\n",
       "      <td>25.0</td>\n",
       "      <td>UK</td>\n",
       "      <td>69000.0</td>\n",
       "      <td>Ruby</td>\n",
       "    </tr>\n",
       "  </tbody>\n",
       "</table>\n",
       "</div>"
      ],
      "text/plain": [
       "   first_name  last_name                   email   age      country    salary  \\\n",
       "2       Aaron     Hansen     ahansen75@gmail.com  26.0       Canada   92000.0   \n",
       "9      Daniel       Hank       dhank42@gmail.com  27.0          USA  107000.0   \n",
       "13      Oscar      Samir      osamir10@gmail.com  25.0  New Zealand   91000.0   \n",
       "14     Steven     Patten     spatten89@gmail.com  25.0  New Zealand   73000.0   \n",
       "17    Patrick     Patten     ppatten96@gmail.com  25.0           UK   72000.0   \n",
       "21       Amin       Hank       ahank60@gmail.com  25.0          USA   49000.0   \n",
       "25       Erik      Terry      eterry45@gmail.com  25.0     Scotland   71000.0   \n",
       "32      Edwin   Hamilton   ehamilton86@gmail.com  25.0  New Zealand   82000.0   \n",
       "42     Russel   Woodburn   rwoodburn12@gmail.com  25.0  New Zealand   42000.0   \n",
       "43       John  Stevenson  jstevenson63@gmail.com  26.0    Australia  111000.0   \n",
       "53     Oswald     Gerard     ogerard55@gmail.com  25.0           UK   69000.0   \n",
       "\n",
       "   languages  \n",
       "2        PHP  \n",
       "9       Java  \n",
       "13         R  \n",
       "14      Dart  \n",
       "17         R  \n",
       "21      Ruby  \n",
       "25      Ruby  \n",
       "32    Python  \n",
       "42      Ruby  \n",
       "43      Ruby  \n",
       "53      Ruby  "
      ]
     },
     "execution_count": 57,
     "metadata": {},
     "output_type": "execute_result"
    }
   ],
   "source": [
    "df[df['age'] <= 27]\n",
    "\n",
    "# Returns all rows where 'age' is less than or equal to 27"
   ]
  },
  {
   "cell_type": "code",
   "execution_count": 66,
   "id": "163001fd-22ab-4e77-98af-f11df8c6f3a4",
   "metadata": {},
   "outputs": [
    {
     "data": {
      "text/plain": [
       "Williams      4\n",
       "Patten        3\n",
       "Gerard        2\n",
       "Magnusson     2\n",
       "Terry         2\n",
       "Hansen        2\n",
       "Flick         2\n",
       "Hank          2\n",
       "Kimmel        2\n",
       "Eriksen       2\n",
       "Stevenson     2\n",
       "Williamson    2\n",
       "Robinson      1\n",
       "Tanner        1\n",
       "Fernandez     1\n",
       "Thomas        1\n",
       "Hvar          1\n",
       "Woodburn      1\n",
       "Manning       1\n",
       "Mendez        1\n",
       "Aygun         1\n",
       "Morten        1\n",
       "Lehmann       1\n",
       "Hamilton      1\n",
       "Bulsic        1\n",
       "Perreira      1\n",
       "Atkinson      1\n",
       "Ronson        1\n",
       "Smith         1\n",
       "Richards      1\n",
       "Towns         1\n",
       "Albert        1\n",
       "Hassan        1\n",
       "Samir         1\n",
       "Fraser        1\n",
       "Roberts       1\n",
       "Kramer        1\n",
       "Ansari        1\n",
       "Carlson       1\n",
       "Name: last_name, dtype: int64"
      ]
     },
     "execution_count": 66,
     "metadata": {},
     "output_type": "execute_result"
    }
   ],
   "source": [
    "df['last_name'].value_counts()"
   ]
  },
  {
   "cell_type": "markdown",
   "id": "b7150e45-4c5f-475f-8130-43a7951be31b",
   "metadata": {},
   "source": [
    "> This method passes a boolean on the DataFrame and only returns values that are True."
   ]
  },
  {
   "cell_type": "markdown",
   "id": "7f495572-c53b-4a78-90f3-42667a28f213",
   "metadata": {},
   "source": [
    "Another method can be used to return values where two cases are evaluated. It is denoted by **&** for 'and', and **|** for 'or', as demonstrated below."
   ]
  },
  {
   "cell_type": "code",
   "execution_count": 76,
   "id": "ea432a5d-28da-4497-9a1b-92fd74ff763d",
   "metadata": {},
   "outputs": [
    {
     "data": {
      "text/html": [
       "<div>\n",
       "<style scoped>\n",
       "    .dataframe tbody tr th:only-of-type {\n",
       "        vertical-align: middle;\n",
       "    }\n",
       "\n",
       "    .dataframe tbody tr th {\n",
       "        vertical-align: top;\n",
       "    }\n",
       "\n",
       "    .dataframe thead th {\n",
       "        text-align: right;\n",
       "    }\n",
       "</style>\n",
       "<table border=\"1\" class=\"dataframe\">\n",
       "  <thead>\n",
       "    <tr style=\"text-align: right;\">\n",
       "      <th></th>\n",
       "      <th>first_name</th>\n",
       "      <th>last_name</th>\n",
       "      <th>email</th>\n",
       "      <th>age</th>\n",
       "      <th>country</th>\n",
       "      <th>salary</th>\n",
       "      <th>languages</th>\n",
       "    </tr>\n",
       "  </thead>\n",
       "  <tbody>\n",
       "    <tr>\n",
       "      <th>14</th>\n",
       "      <td>Steven</td>\n",
       "      <td>Patten</td>\n",
       "      <td>spatten89@gmail.com</td>\n",
       "      <td>25.0</td>\n",
       "      <td>New Zealand</td>\n",
       "      <td>73000.0</td>\n",
       "      <td>Dart</td>\n",
       "    </tr>\n",
       "  </tbody>\n",
       "</table>\n",
       "</div>"
      ],
      "text/plain": [
       "   first_name last_name                email   age      country   salary  \\\n",
       "14     Steven    Patten  spatten89@gmail.com  25.0  New Zealand  73000.0   \n",
       "\n",
       "   languages  \n",
       "14      Dart  "
      ]
     },
     "execution_count": 76,
     "metadata": {},
     "output_type": "execute_result"
    }
   ],
   "source": [
    "df[(df['last_name'] == 'Patten') & (df['first_name'] == 'Steven')]\n",
    "\n",
    "# Returns rows where last name is Patten AND first is Steven"
   ]
  },
  {
   "cell_type": "code",
   "execution_count": 77,
   "id": "6e658967-d7e1-4ae5-ba67-1d4436e5b8fc",
   "metadata": {},
   "outputs": [
    {
     "data": {
      "text/html": [
       "<div>\n",
       "<style scoped>\n",
       "    .dataframe tbody tr th:only-of-type {\n",
       "        vertical-align: middle;\n",
       "    }\n",
       "\n",
       "    .dataframe tbody tr th {\n",
       "        vertical-align: top;\n",
       "    }\n",
       "\n",
       "    .dataframe thead th {\n",
       "        text-align: right;\n",
       "    }\n",
       "</style>\n",
       "<table border=\"1\" class=\"dataframe\">\n",
       "  <thead>\n",
       "    <tr style=\"text-align: right;\">\n",
       "      <th></th>\n",
       "      <th>first_name</th>\n",
       "      <th>last_name</th>\n",
       "      <th>email</th>\n",
       "      <th>age</th>\n",
       "      <th>country</th>\n",
       "      <th>salary</th>\n",
       "      <th>languages</th>\n",
       "    </tr>\n",
       "  </thead>\n",
       "  <tbody>\n",
       "    <tr>\n",
       "      <th>4</th>\n",
       "      <td>Benjamin</td>\n",
       "      <td>Kramer</td>\n",
       "      <td>bkramer29@gmail.com</td>\n",
       "      <td>34.0</td>\n",
       "      <td>Scotland</td>\n",
       "      <td>71000.0</td>\n",
       "      <td>Python</td>\n",
       "    </tr>\n",
       "    <tr>\n",
       "      <th>8</th>\n",
       "      <td>Erik</td>\n",
       "      <td>Williams</td>\n",
       "      <td>ewilliams55@gmail.com</td>\n",
       "      <td>42.0</td>\n",
       "      <td>Australia</td>\n",
       "      <td>65000.0</td>\n",
       "      <td>PHP</td>\n",
       "    </tr>\n",
       "    <tr>\n",
       "      <th>11</th>\n",
       "      <td>Stanislas</td>\n",
       "      <td>Williams</td>\n",
       "      <td>swilliams29@gmail.com</td>\n",
       "      <td>45.0</td>\n",
       "      <td>UK</td>\n",
       "      <td>71000.0</td>\n",
       "      <td>PHP</td>\n",
       "    </tr>\n",
       "    <tr>\n",
       "      <th>38</th>\n",
       "      <td>Conrad</td>\n",
       "      <td>Williams</td>\n",
       "      <td>cwilliams60@gmail.com</td>\n",
       "      <td>36.0</td>\n",
       "      <td>UK</td>\n",
       "      <td>99000.0</td>\n",
       "      <td>html; CSS; Javascript</td>\n",
       "    </tr>\n",
       "    <tr>\n",
       "      <th>48</th>\n",
       "      <td>Bill</td>\n",
       "      <td>Williams</td>\n",
       "      <td>bwilliams16@gmail.com</td>\n",
       "      <td>45.0</td>\n",
       "      <td>UK</td>\n",
       "      <td>110000.0</td>\n",
       "      <td>R</td>\n",
       "    </tr>\n",
       "  </tbody>\n",
       "</table>\n",
       "</div>"
      ],
      "text/plain": [
       "   first_name last_name                  email   age    country    salary  \\\n",
       "4    Benjamin    Kramer    bkramer29@gmail.com  34.0   Scotland   71000.0   \n",
       "8        Erik  Williams  ewilliams55@gmail.com  42.0  Australia   65000.0   \n",
       "11  Stanislas  Williams  swilliams29@gmail.com  45.0         UK   71000.0   \n",
       "38     Conrad  Williams  cwilliams60@gmail.com  36.0         UK   99000.0   \n",
       "48       Bill  Williams  bwilliams16@gmail.com  45.0         UK  110000.0   \n",
       "\n",
       "                languages  \n",
       "4                  Python  \n",
       "8                     PHP  \n",
       "11                    PHP  \n",
       "38  html; CSS; Javascript  \n",
       "48                      R  "
      ]
     },
     "execution_count": 77,
     "metadata": {},
     "output_type": "execute_result"
    }
   ],
   "source": [
    "df[(df['last_name'] == 'Williams') | (df['first_name'] == 'Benjamin')]\n",
    "\n",
    "# Returns rows where last name is Williams OR first name is Benjamin "
   ]
  },
  {
   "cell_type": "markdown",
   "id": "45a7cffb-4ac7-4355-8cdd-8e9d80ab71d7",
   "metadata": {},
   "source": [
    "> The same result can be achieved using **.loc** method, as demonstrated below."
   ]
  },
  {
   "cell_type": "code",
   "execution_count": 78,
   "id": "8066bdda-7619-4b05-8399-a9437ad6074d",
   "metadata": {},
   "outputs": [
    {
     "data": {
      "text/html": [
       "<div>\n",
       "<style scoped>\n",
       "    .dataframe tbody tr th:only-of-type {\n",
       "        vertical-align: middle;\n",
       "    }\n",
       "\n",
       "    .dataframe tbody tr th {\n",
       "        vertical-align: top;\n",
       "    }\n",
       "\n",
       "    .dataframe thead th {\n",
       "        text-align: right;\n",
       "    }\n",
       "</style>\n",
       "<table border=\"1\" class=\"dataframe\">\n",
       "  <thead>\n",
       "    <tr style=\"text-align: right;\">\n",
       "      <th></th>\n",
       "      <th>first_name</th>\n",
       "      <th>last_name</th>\n",
       "      <th>email</th>\n",
       "      <th>age</th>\n",
       "      <th>country</th>\n",
       "      <th>salary</th>\n",
       "      <th>languages</th>\n",
       "    </tr>\n",
       "  </thead>\n",
       "  <tbody>\n",
       "    <tr>\n",
       "      <th>14</th>\n",
       "      <td>Steven</td>\n",
       "      <td>Patten</td>\n",
       "      <td>spatten89@gmail.com</td>\n",
       "      <td>25.0</td>\n",
       "      <td>New Zealand</td>\n",
       "      <td>73000.0</td>\n",
       "      <td>Dart</td>\n",
       "    </tr>\n",
       "  </tbody>\n",
       "</table>\n",
       "</div>"
      ],
      "text/plain": [
       "   first_name last_name                email   age      country   salary  \\\n",
       "14     Steven    Patten  spatten89@gmail.com  25.0  New Zealand  73000.0   \n",
       "\n",
       "   languages  \n",
       "14      Dart  "
      ]
     },
     "execution_count": 78,
     "metadata": {},
     "output_type": "execute_result"
    }
   ],
   "source": [
    "df.loc[(df['last_name'] == 'Patten') & (df['first_name'] == 'Steven')]\n",
    "\n",
    "# Returns rows where last name is Patten AND first is Steven"
   ]
  },
  {
   "cell_type": "code",
   "execution_count": 79,
   "id": "eb7bda70-8c64-4570-a0a8-204cc54da345",
   "metadata": {},
   "outputs": [
    {
     "data": {
      "text/html": [
       "<div>\n",
       "<style scoped>\n",
       "    .dataframe tbody tr th:only-of-type {\n",
       "        vertical-align: middle;\n",
       "    }\n",
       "\n",
       "    .dataframe tbody tr th {\n",
       "        vertical-align: top;\n",
       "    }\n",
       "\n",
       "    .dataframe thead th {\n",
       "        text-align: right;\n",
       "    }\n",
       "</style>\n",
       "<table border=\"1\" class=\"dataframe\">\n",
       "  <thead>\n",
       "    <tr style=\"text-align: right;\">\n",
       "      <th></th>\n",
       "      <th>first_name</th>\n",
       "      <th>last_name</th>\n",
       "      <th>email</th>\n",
       "      <th>age</th>\n",
       "      <th>country</th>\n",
       "      <th>salary</th>\n",
       "      <th>languages</th>\n",
       "    </tr>\n",
       "  </thead>\n",
       "  <tbody>\n",
       "    <tr>\n",
       "      <th>4</th>\n",
       "      <td>Benjamin</td>\n",
       "      <td>Kramer</td>\n",
       "      <td>bkramer29@gmail.com</td>\n",
       "      <td>34.0</td>\n",
       "      <td>Scotland</td>\n",
       "      <td>71000.0</td>\n",
       "      <td>Python</td>\n",
       "    </tr>\n",
       "    <tr>\n",
       "      <th>8</th>\n",
       "      <td>Erik</td>\n",
       "      <td>Williams</td>\n",
       "      <td>ewilliams55@gmail.com</td>\n",
       "      <td>42.0</td>\n",
       "      <td>Australia</td>\n",
       "      <td>65000.0</td>\n",
       "      <td>PHP</td>\n",
       "    </tr>\n",
       "    <tr>\n",
       "      <th>11</th>\n",
       "      <td>Stanislas</td>\n",
       "      <td>Williams</td>\n",
       "      <td>swilliams29@gmail.com</td>\n",
       "      <td>45.0</td>\n",
       "      <td>UK</td>\n",
       "      <td>71000.0</td>\n",
       "      <td>PHP</td>\n",
       "    </tr>\n",
       "    <tr>\n",
       "      <th>38</th>\n",
       "      <td>Conrad</td>\n",
       "      <td>Williams</td>\n",
       "      <td>cwilliams60@gmail.com</td>\n",
       "      <td>36.0</td>\n",
       "      <td>UK</td>\n",
       "      <td>99000.0</td>\n",
       "      <td>html; CSS; Javascript</td>\n",
       "    </tr>\n",
       "    <tr>\n",
       "      <th>48</th>\n",
       "      <td>Bill</td>\n",
       "      <td>Williams</td>\n",
       "      <td>bwilliams16@gmail.com</td>\n",
       "      <td>45.0</td>\n",
       "      <td>UK</td>\n",
       "      <td>110000.0</td>\n",
       "      <td>R</td>\n",
       "    </tr>\n",
       "  </tbody>\n",
       "</table>\n",
       "</div>"
      ],
      "text/plain": [
       "   first_name last_name                  email   age    country    salary  \\\n",
       "4    Benjamin    Kramer    bkramer29@gmail.com  34.0   Scotland   71000.0   \n",
       "8        Erik  Williams  ewilliams55@gmail.com  42.0  Australia   65000.0   \n",
       "11  Stanislas  Williams  swilliams29@gmail.com  45.0         UK   71000.0   \n",
       "38     Conrad  Williams  cwilliams60@gmail.com  36.0         UK   99000.0   \n",
       "48       Bill  Williams  bwilliams16@gmail.com  45.0         UK  110000.0   \n",
       "\n",
       "                languages  \n",
       "4                  Python  \n",
       "8                     PHP  \n",
       "11                    PHP  \n",
       "38  html; CSS; Javascript  \n",
       "48                      R  "
      ]
     },
     "execution_count": 79,
     "metadata": {},
     "output_type": "execute_result"
    }
   ],
   "source": [
    "df.loc[(df['last_name'] == 'Williams') | (df['first_name'] == 'Benjamin')]\n",
    "\n",
    "# Returns rows where last name is Williams OR first is Benjamin"
   ]
  },
  {
   "cell_type": "markdown",
   "id": "5faf6ea5-d073-42ab-86e7-c35c8bc6164c",
   "metadata": {},
   "source": [
    "\n",
    "<br>"
   ]
  },
  {
   "cell_type": "markdown",
   "id": "a72fb1fd-4286-48cb-b190-ff6008547bc4",
   "metadata": {
    "tags": []
   },
   "source": [
    "<a id='method_grp'></a>\n",
    "### Grouping Methods"
   ]
  },
  {
   "cell_type": "markdown",
   "id": "e76acc66-0e90-4ba0-a176-d148d90ba084",
   "metadata": {},
   "source": [
    ">*In **Pandas** we can group different column values by another column or columns in order to get a specific result. To group different columns we use **.groupby( )** method.*"
   ]
  },
  {
   "cell_type": "markdown",
   "id": "ada07eb8-7cc7-4936-9d55-b535c8226743",
   "metadata": {},
   "source": [
    "We want to get the average salary by country. To achieve that, we will group the column 'salary' by 'country' and call the **.mean( )** method.<br><br>\n",
    "There are two ways to use the **.groupby( )** method, as demonstrated below"
   ]
  },
  {
   "cell_type": "code",
   "execution_count": 80,
   "id": "fa70f2b7-38cf-4704-953d-d9a8abb3e767",
   "metadata": {},
   "outputs": [
    {
     "data": {
      "text/plain": [
       "country\n",
       "Australia      76307.692308\n",
       "Canada         71000.000000\n",
       "New Zealand    71500.000000\n",
       "Scotland       73777.777778\n",
       "UK             81750.000000\n",
       "USA            87500.000000\n",
       "Name: salary, dtype: float64"
      ]
     },
     "execution_count": 80,
     "metadata": {},
     "output_type": "execute_result"
    }
   ],
   "source": [
    "df['salary'].groupby(df['country']).mean()"
   ]
  },
  {
   "cell_type": "code",
   "execution_count": 81,
   "id": "7d7405c1-9467-4f17-9581-461e3f4db798",
   "metadata": {},
   "outputs": [
    {
     "data": {
      "text/plain": [
       "country\n",
       "Australia      76307.692308\n",
       "Canada         71000.000000\n",
       "New Zealand    71500.000000\n",
       "Scotland       73777.777778\n",
       "UK             81750.000000\n",
       "USA            87500.000000\n",
       "Name: salary, dtype: float64"
      ]
     },
     "execution_count": 81,
     "metadata": {},
     "output_type": "execute_result"
    }
   ],
   "source": [
    "df.groupby('country')['salary'].mean()"
   ]
  },
  {
   "cell_type": "markdown",
   "id": "275b3ffe-032c-48a5-88c2-bdb9fd3751e9",
   "metadata": {},
   "source": [
    "> *Both ways are identical and return the same Series.*\n",
    "<br>\n",
    "<br>\n",
    "***This returns a Series that contains average salary for every country.***"
   ]
  },
  {
   "cell_type": "markdown",
   "id": "51957bca-ee64-46ff-be57-d8babe84775b",
   "metadata": {},
   "source": [
    "Let's say that you want to get the number of programming languages for every country. To achieve that, we will group the column 'languages' by 'country' and call the **.value_counts( )** method."
   ]
  },
  {
   "cell_type": "code",
   "execution_count": 82,
   "id": "f9945001-e2d7-4ca7-9ac3-b0b7b9425911",
   "metadata": {},
   "outputs": [
    {
     "data": {
      "text/plain": [
       "country      languages            \n",
       "Australia    R                        5\n",
       "             Java                     2\n",
       "             PHP                      2\n",
       "             Dart                     1\n",
       "             Python                   1\n",
       "             Ruby                     1\n",
       "             html; CSS; Javascript    1\n",
       "Canada       Java                     2\n",
       "             PHP                      2\n",
       "             R                        1\n",
       "New Zealand  Dart                     1\n",
       "             PHP                      1\n",
       "             Python                   1\n",
       "             R                        1\n",
       "             Ruby                     1\n",
       "             html; CSS; Javascript    1\n",
       "Scotland     Java                     2\n",
       "             Python                   2\n",
       "             R                        2\n",
       "             Dart                     1\n",
       "             Ruby                     1\n",
       "             html; CSS; Javascript    1\n",
       "UK           Ruby                     4\n",
       "             Java                     3\n",
       "             R                        2\n",
       "             Dart                     1\n",
       "             PHP                      1\n",
       "             html; CSS; Javascript    1\n",
       "USA          Java                     2\n",
       "             Python                   2\n",
       "             Ruby                     2\n",
       "             Dart                     1\n",
       "             R                        1\n",
       "Name: languages, dtype: int64"
      ]
     },
     "execution_count": 82,
     "metadata": {},
     "output_type": "execute_result"
    }
   ],
   "source": [
    "df.groupby('country')['languages'].value_counts()"
   ]
  },
  {
   "cell_type": "code",
   "execution_count": 83,
   "id": "d2ccc321-65fa-482b-ab55-f53fd30caa8c",
   "metadata": {},
   "outputs": [
    {
     "data": {
      "text/plain": [
       "country      languages            \n",
       "Australia    R                        5\n",
       "             Java                     2\n",
       "             PHP                      2\n",
       "             Dart                     1\n",
       "             Python                   1\n",
       "             Ruby                     1\n",
       "             html; CSS; Javascript    1\n",
       "Canada       Java                     2\n",
       "             PHP                      2\n",
       "             R                        1\n",
       "New Zealand  Dart                     1\n",
       "             PHP                      1\n",
       "             Python                   1\n",
       "             R                        1\n",
       "             Ruby                     1\n",
       "             html; CSS; Javascript    1\n",
       "Scotland     Java                     2\n",
       "             Python                   2\n",
       "             R                        2\n",
       "             Dart                     1\n",
       "             Ruby                     1\n",
       "             html; CSS; Javascript    1\n",
       "UK           Ruby                     4\n",
       "             Java                     3\n",
       "             R                        2\n",
       "             Dart                     1\n",
       "             PHP                      1\n",
       "             html; CSS; Javascript    1\n",
       "USA          Java                     2\n",
       "             Python                   2\n",
       "             Ruby                     2\n",
       "             Dart                     1\n",
       "             R                        1\n",
       "Name: languages, dtype: int64"
      ]
     },
     "execution_count": 83,
     "metadata": {},
     "output_type": "execute_result"
    }
   ],
   "source": [
    "df['languages'].groupby(df['country']).value_counts()"
   ]
  },
  {
   "cell_type": "markdown",
   "id": "7cabf8bc-e94c-4d58-bc02-01ef32da2d31",
   "metadata": {},
   "source": [
    ">***as mentioned earlier, both methods return the same Series.***"
   ]
  },
  {
   "cell_type": "markdown",
   "id": "d2c84d66-a109-4e1d-93ba-6bab463c0001",
   "metadata": {},
   "source": [
    "*Now let's say you wanted to get a breakdown for languages in a specific country. The same principle for **.groupby( )** method can be applied. I will demonstrate 3 different ways by which you can get the same result.*"
   ]
  },
  {
   "cell_type": "markdown",
   "id": "0ec7a186-2011-4bc4-97fa-ec3332823317",
   "metadata": {},
   "source": [
    "***Method 1: By applying a filter***<br>\n",
    "if you want to refresh your memory on filtering, click <a href='#method_filt'>here</a>\n",
    "<br>\n",
    "<br>\n",
    "*We will create a filter for **'country'** and call **.value_counts( )** on that filter.*"
   ]
  },
  {
   "cell_type": "code",
   "execution_count": 84,
   "id": "ecd3924f-ba9f-4dd9-9802-f5d66bb8ffe6",
   "metadata": {},
   "outputs": [
    {
     "data": {
      "text/plain": [
       "R                        5\n",
       "PHP                      2\n",
       "Java                     2\n",
       "html; CSS; Javascript    1\n",
       "Dart                     1\n",
       "Ruby                     1\n",
       "Python                   1\n",
       "Name: languages, dtype: int64"
      ]
     },
     "execution_count": 84,
     "metadata": {},
     "output_type": "execute_result"
    }
   ],
   "source": [
    "df[df['country'] == 'Australia']['languages'].value_counts()"
   ]
  },
  {
   "cell_type": "markdown",
   "id": "42ccc0dc-15f3-42be-ba83-d678298ece92",
   "metadata": {},
   "source": [
    "<br>\n",
    "\n",
    "***Method 2: Using .groupby( ) method and .loc( ) to specify for which value we would like to group our data.***<br>\n",
    "<br>\n",
    "*We will group the **'country'** column by **'languages'** and call the **.value_counts( )** method, while passing country name in **.loc( )** method to return values where country name is in **'country'** column.*"
   ]
  },
  {
   "cell_type": "code",
   "execution_count": 85,
   "id": "c85b842e-624b-4ebd-998b-ef9f559bf531",
   "metadata": {},
   "outputs": [
    {
     "data": {
      "text/plain": [
       "languages\n",
       "R                        5\n",
       "Java                     2\n",
       "PHP                      2\n",
       "Dart                     1\n",
       "Python                   1\n",
       "Ruby                     1\n",
       "html; CSS; Javascript    1\n",
       "Name: languages, dtype: int64"
      ]
     },
     "execution_count": 85,
     "metadata": {},
     "output_type": "execute_result"
    }
   ],
   "source": [
    "df.groupby('country')['languages'].value_counts().loc['Australia']"
   ]
  },
  {
   "cell_type": "markdown",
   "id": "b08757c2-fcaf-4daa-8375-750e5244a955",
   "metadata": {},
   "source": [
    "<br>\n",
    "\n",
    "***Method 3: Using .groupby( ) method to create a group for countries, then create separate country group variables using .get_group( ) method for each country we would like to pull data for.***<br>\n",
    "<br>\n",
    "*After creating separate variables for country groups, we can call **.value_counts( )** method.*\n"
   ]
  },
  {
   "cell_type": "code",
   "execution_count": 86,
   "id": "4faf0a83-8483-4399-a201-42ad359f326c",
   "metadata": {
    "tags": []
   },
   "outputs": [
    {
     "data": {
      "text/plain": [
       "R                        5\n",
       "PHP                      2\n",
       "Java                     2\n",
       "html; CSS; Javascript    1\n",
       "Dart                     1\n",
       "Ruby                     1\n",
       "Python                   1\n",
       "Name: languages, dtype: int64"
      ]
     },
     "execution_count": 86,
     "metadata": {},
     "output_type": "execute_result"
    }
   ],
   "source": [
    "group_country = df.groupby('country')\n",
    "aus = group_country.get_group('Australia')\n",
    "\n",
    "aus['languages'].value_counts()"
   ]
  },
  {
   "cell_type": "markdown",
   "id": "e33592cd-2236-4003-9fae-f744817eb6a9",
   "metadata": {},
   "source": [
    "<br>\n",
    "\n",
    "***Here's another simpler demonstration for the 3 methods***"
   ]
  },
  {
   "cell_type": "code",
   "execution_count": 87,
   "id": "9e0f85ae-008a-46ea-b6f7-b128e1877673",
   "metadata": {},
   "outputs": [
    {
     "data": {
      "text/plain": [
       "36.111111111111114"
      ]
     },
     "execution_count": 87,
     "metadata": {},
     "output_type": "execute_result"
    }
   ],
   "source": [
    "df[df['country'] == 'Scotland']['age'].mean()     # Using Filtering method."
   ]
  },
  {
   "cell_type": "code",
   "execution_count": 88,
   "id": "3ffd84e5-97ea-4818-8130-2d57157f0914",
   "metadata": {},
   "outputs": [
    {
     "data": {
      "text/plain": [
       "36.111111111111114"
      ]
     },
     "execution_count": 88,
     "metadata": {},
     "output_type": "execute_result"
    }
   ],
   "source": [
    "df.groupby('country')['age'].mean().loc['Scotland']     # Using .groupby() & .loc"
   ]
  },
  {
   "cell_type": "code",
   "execution_count": 89,
   "id": "7addc7c9-ac8a-45bc-ac72-d40f7c50f160",
   "metadata": {},
   "outputs": [
    {
     "data": {
      "text/plain": [
       "36.111111111111114"
      ]
     },
     "execution_count": 89,
     "metadata": {},
     "output_type": "execute_result"
    }
   ],
   "source": [
    "scot_group = df.groupby('country').get_group('Scotland')     # Using .groupby() & get_group()\n",
    "scot_group['age'].mean()"
   ]
  },
  {
   "cell_type": "markdown",
   "id": "5f619c75-b061-4818-b878-e6a272b7aa8c",
   "metadata": {},
   "source": [
    "> *These are the most common methods for grouping different column values together.* \n",
    "<br>"
   ]
  },
  {
   "cell_type": "markdown",
   "id": "9f4b9d2f-9b52-4429-b54b-9ebcd772bfbe",
   "metadata": {},
   "source": [
    "<br>\n",
    "<br>\n",
    "By now we have covered all the introductory basic methods and techniques you need to know in order to manipulate datasets and retrieve the information you are seeking from the dataset.\n",
    "<br>\n",
    "\n",
    "<br>\n",
    "<br>\n",
    "\n",
    ">***As always, feel free to change anything you want to in order to make this notebook work the best for you. You can also use & copy any code you want. \n",
    "<br>\n",
    "<br>\n",
    "I do not own the concepts included in this notebook, you can find it anywhere online. \n",
    "<br>\n",
    "<br>\n",
    "The purpose of this notebook is to collect all the information in one place, so that whoever needs a single document to refer to when using Pandas, they have this notebook ready.***\n"
   ]
  },
  {
   "cell_type": "code",
   "execution_count": null,
   "id": "d206b822-9351-42fb-aa10-dead2945fe08",
   "metadata": {},
   "outputs": [],
   "source": []
  }
 ],
 "metadata": {
  "kernelspec": {
   "display_name": "Python 3 (ipykernel)",
   "language": "python",
   "name": "python3"
  },
  "language_info": {
   "codemirror_mode": {
    "name": "ipython",
    "version": 3
   },
   "file_extension": ".py",
   "mimetype": "text/x-python",
   "name": "python",
   "nbconvert_exporter": "python",
   "pygments_lexer": "ipython3",
   "version": "3.9.7"
  }
 },
 "nbformat": 4,
 "nbformat_minor": 5
}
